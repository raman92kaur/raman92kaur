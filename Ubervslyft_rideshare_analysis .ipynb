{
 "cells": [
  {
   "cell_type": "code",
   "execution_count": 2,
   "id": "f5e38801",
   "metadata": {},
   "outputs": [
    {
     "name": "stdout",
     "output_type": "stream",
     "text": [
      "Requirement already satisfied: kaleido in c:\\users\\acer\\anaconda3\\lib\\site-packages (0.2.1)\n"
     ]
    }
   ],
   "source": [
    "import pandas as pd\n",
    "import numpy as np\n",
    "import matplotlib.pyplot as plt\n",
    "import seaborn as sns\n",
    "from sklearn.model_selection import train_test_split\n",
    "from sklearn.linear_model import LogisticRegression\n",
    "from sklearn import metrics\n",
    "import statsmodels.api as sm\n",
    "from pandas import Series\n",
    "! pip install -U kaleido"
   ]
  },
  {
   "cell_type": "code",
   "execution_count": 3,
   "id": "4c481a24",
   "metadata": {},
   "outputs": [
    {
     "name": "stdout",
     "output_type": "stream",
     "text": [
      "<class 'pandas.core.frame.DataFrame'>\n"
     ]
    }
   ],
   "source": [
    "df = pd.read_csv(r'C:\\Users\\ACER\\Uberlyft_data.csv')\n",
    "print (type(df))"
   ]
  },
  {
   "cell_type": "code",
   "execution_count": 16,
   "id": "f13bd1bb",
   "metadata": {},
   "outputs": [
    {
     "name": "stdout",
     "output_type": "stream",
     "text": [
      "                                          id     timestamp  hour  day  month  \\\n",
      "0       424553bb-7174-41ea-aeb4-fe06d4f4b9d7  1.544953e+09     9   16     12   \n",
      "1       4bd23055-6827-41c6-b23b-3c491f24e74d  1.543284e+09     2   27     11   \n",
      "2       981a3613-77af-4620-a42a-0c0866077d1e  1.543367e+09     1   28     11   \n",
      "3       c2d88af2-d278-4bfd-a8d0-29ca77cc5512  1.543554e+09     4   30     11   \n",
      "4       e0126e1f-8ca9-4f2e-82b3-50505a09db9a  1.543463e+09     3   29     11   \n",
      "...                                      ...           ...   ...  ...    ...   \n",
      "693066  616d3611-1820-450a-9845-a9ff304a4842  1.543708e+09    23    1     12   \n",
      "693067  633a3fc3-1f86-4b9e-9d48-2b7132112341  1.543708e+09    23    1     12   \n",
      "693068  64d451d0-639f-47a4-9b7c-6fd92fbd264f  1.543708e+09    23    1     12   \n",
      "693069  727e5f07-a96b-4ad1-a2c7-9abc3ad55b4e  1.543708e+09    23    1     12   \n",
      "693070  e7fdc087-fe86-40a5-a3c3-3b2a8badcbda  1.543708e+09    23    1     12   \n",
      "\n",
      "                   datetime          timezone            source  \\\n",
      "0       2018-12-16 09:30:07  America/New_York  Haymarket Square   \n",
      "1       2018-11-27 02:00:23  America/New_York  Haymarket Square   \n",
      "2       2018-11-28 01:00:22  America/New_York  Haymarket Square   \n",
      "3       2018-11-30 04:53:02  America/New_York  Haymarket Square   \n",
      "4       2018-11-29 03:49:20  America/New_York  Haymarket Square   \n",
      "...                     ...               ...               ...   \n",
      "693066  2018-12-01 23:53:05  America/New_York          West End   \n",
      "693067  2018-12-01 23:53:05  America/New_York          West End   \n",
      "693068  2018-12-01 23:53:05  America/New_York          West End   \n",
      "693069  2018-12-01 23:53:05  America/New_York          West End   \n",
      "693070  2018-12-01 23:53:05  America/New_York          West End   \n",
      "\n",
      "          destination cab_type  ... precipIntensityMax uvIndexTime  \\\n",
      "0       North Station     Lyft  ...             0.1276  1544979600   \n",
      "1       North Station     Lyft  ...             0.1300  1543251600   \n",
      "2       North Station     Lyft  ...             0.1064  1543338000   \n",
      "3       North Station     Lyft  ...             0.0000  1543507200   \n",
      "4       North Station     Lyft  ...             0.0001  1543420800   \n",
      "...               ...      ...  ...                ...         ...   \n",
      "693066      North End     Uber  ...             0.0000  1543683600   \n",
      "693067      North End     Uber  ...             0.0000  1543683600   \n",
      "693068      North End     Uber  ...             0.0000  1543683600   \n",
      "693069      North End     Uber  ...             0.0000  1543683600   \n",
      "693070      North End     Uber  ...             0.0000  1543683600   \n",
      "\n",
      "        temperatureMin  temperatureMinTime  temperatureMax  \\\n",
      "0                39.89          1545012000           43.68   \n",
      "1                40.49          1543233600           47.30   \n",
      "2                35.36          1543377600           47.55   \n",
      "3                34.67          1543550400           45.03   \n",
      "4                33.10          1543402800           42.18   \n",
      "...                ...                 ...             ...   \n",
      "693066           31.42          1543658400           44.76   \n",
      "693067           31.42          1543658400           44.76   \n",
      "693068           31.42          1543658400           44.76   \n",
      "693069           31.42          1543658400           44.76   \n",
      "693070           31.42          1543658400           44.76   \n",
      "\n",
      "        temperatureMaxTime  apparentTemperatureMin  \\\n",
      "0               1544968800                   33.73   \n",
      "1               1543251600                   36.20   \n",
      "2               1543320000                   31.04   \n",
      "3               1543510800                   30.30   \n",
      "4               1543420800                   29.11   \n",
      "...                    ...                     ...   \n",
      "693066          1543690800                   27.77   \n",
      "693067          1543690800                   27.77   \n",
      "693068          1543690800                   27.77   \n",
      "693069          1543690800                   27.77   \n",
      "693070          1543690800                   27.77   \n",
      "\n",
      "        apparentTemperatureMinTime  apparentTemperatureMax  \\\n",
      "0                       1545012000                   38.07   \n",
      "1                       1543291200                   43.92   \n",
      "2                       1543377600                   44.12   \n",
      "3                       1543550400                   38.53   \n",
      "4                       1543392000                   35.75   \n",
      "...                            ...                     ...   \n",
      "693066                  1543658400                   44.09   \n",
      "693067                  1543658400                   44.09   \n",
      "693068                  1543658400                   44.09   \n",
      "693069                  1543658400                   44.09   \n",
      "693070                  1543658400                   44.09   \n",
      "\n",
      "       apparentTemperatureMaxTime  \n",
      "0                      1544958000  \n",
      "1                      1543251600  \n",
      "2                      1543320000  \n",
      "3                      1543510800  \n",
      "4                      1543420800  \n",
      "...                           ...  \n",
      "693066                 1543690800  \n",
      "693067                 1543690800  \n",
      "693068                 1543690800  \n",
      "693069                 1543690800  \n",
      "693070                 1543690800  \n",
      "\n",
      "[693071 rows x 57 columns]\n"
     ]
    }
   ],
   "source": [
    "df = pd.read_csv(r'C:\\Users\\ACER\\Uberlyft_data.csv')\n",
    "print (df)"
   ]
  },
  {
   "cell_type": "code",
   "execution_count": 17,
   "id": "44090f52",
   "metadata": {},
   "outputs": [
    {
     "data": {
      "text/html": [
       "<div>\n",
       "<style scoped>\n",
       "    .dataframe tbody tr th:only-of-type {\n",
       "        vertical-align: middle;\n",
       "    }\n",
       "\n",
       "    .dataframe tbody tr th {\n",
       "        vertical-align: top;\n",
       "    }\n",
       "\n",
       "    .dataframe thead th {\n",
       "        text-align: right;\n",
       "    }\n",
       "</style>\n",
       "<table border=\"1\" class=\"dataframe\">\n",
       "  <thead>\n",
       "    <tr style=\"text-align: right;\">\n",
       "      <th></th>\n",
       "      <th>id</th>\n",
       "      <th>timestamp</th>\n",
       "      <th>hour</th>\n",
       "      <th>day</th>\n",
       "      <th>month</th>\n",
       "      <th>datetime</th>\n",
       "      <th>timezone</th>\n",
       "      <th>source</th>\n",
       "      <th>destination</th>\n",
       "      <th>cab_type</th>\n",
       "      <th>...</th>\n",
       "      <th>precipIntensityMax</th>\n",
       "      <th>uvIndexTime</th>\n",
       "      <th>temperatureMin</th>\n",
       "      <th>temperatureMinTime</th>\n",
       "      <th>temperatureMax</th>\n",
       "      <th>temperatureMaxTime</th>\n",
       "      <th>apparentTemperatureMin</th>\n",
       "      <th>apparentTemperatureMinTime</th>\n",
       "      <th>apparentTemperatureMax</th>\n",
       "      <th>apparentTemperatureMaxTime</th>\n",
       "    </tr>\n",
       "  </thead>\n",
       "  <tbody>\n",
       "    <tr>\n",
       "      <th>0</th>\n",
       "      <td>424553bb-7174-41ea-aeb4-fe06d4f4b9d7</td>\n",
       "      <td>1.544953e+09</td>\n",
       "      <td>9</td>\n",
       "      <td>16</td>\n",
       "      <td>12</td>\n",
       "      <td>2018-12-16 09:30:07</td>\n",
       "      <td>America/New_York</td>\n",
       "      <td>Haymarket Square</td>\n",
       "      <td>North Station</td>\n",
       "      <td>Lyft</td>\n",
       "      <td>...</td>\n",
       "      <td>0.1276</td>\n",
       "      <td>1544979600</td>\n",
       "      <td>39.89</td>\n",
       "      <td>1545012000</td>\n",
       "      <td>43.68</td>\n",
       "      <td>1544968800</td>\n",
       "      <td>33.73</td>\n",
       "      <td>1545012000</td>\n",
       "      <td>38.07</td>\n",
       "      <td>1544958000</td>\n",
       "    </tr>\n",
       "    <tr>\n",
       "      <th>1</th>\n",
       "      <td>4bd23055-6827-41c6-b23b-3c491f24e74d</td>\n",
       "      <td>1.543284e+09</td>\n",
       "      <td>2</td>\n",
       "      <td>27</td>\n",
       "      <td>11</td>\n",
       "      <td>2018-11-27 02:00:23</td>\n",
       "      <td>America/New_York</td>\n",
       "      <td>Haymarket Square</td>\n",
       "      <td>North Station</td>\n",
       "      <td>Lyft</td>\n",
       "      <td>...</td>\n",
       "      <td>0.1300</td>\n",
       "      <td>1543251600</td>\n",
       "      <td>40.49</td>\n",
       "      <td>1543233600</td>\n",
       "      <td>47.30</td>\n",
       "      <td>1543251600</td>\n",
       "      <td>36.20</td>\n",
       "      <td>1543291200</td>\n",
       "      <td>43.92</td>\n",
       "      <td>1543251600</td>\n",
       "    </tr>\n",
       "    <tr>\n",
       "      <th>2</th>\n",
       "      <td>981a3613-77af-4620-a42a-0c0866077d1e</td>\n",
       "      <td>1.543367e+09</td>\n",
       "      <td>1</td>\n",
       "      <td>28</td>\n",
       "      <td>11</td>\n",
       "      <td>2018-11-28 01:00:22</td>\n",
       "      <td>America/New_York</td>\n",
       "      <td>Haymarket Square</td>\n",
       "      <td>North Station</td>\n",
       "      <td>Lyft</td>\n",
       "      <td>...</td>\n",
       "      <td>0.1064</td>\n",
       "      <td>1543338000</td>\n",
       "      <td>35.36</td>\n",
       "      <td>1543377600</td>\n",
       "      <td>47.55</td>\n",
       "      <td>1543320000</td>\n",
       "      <td>31.04</td>\n",
       "      <td>1543377600</td>\n",
       "      <td>44.12</td>\n",
       "      <td>1543320000</td>\n",
       "    </tr>\n",
       "    <tr>\n",
       "      <th>3</th>\n",
       "      <td>c2d88af2-d278-4bfd-a8d0-29ca77cc5512</td>\n",
       "      <td>1.543554e+09</td>\n",
       "      <td>4</td>\n",
       "      <td>30</td>\n",
       "      <td>11</td>\n",
       "      <td>2018-11-30 04:53:02</td>\n",
       "      <td>America/New_York</td>\n",
       "      <td>Haymarket Square</td>\n",
       "      <td>North Station</td>\n",
       "      <td>Lyft</td>\n",
       "      <td>...</td>\n",
       "      <td>0.0000</td>\n",
       "      <td>1543507200</td>\n",
       "      <td>34.67</td>\n",
       "      <td>1543550400</td>\n",
       "      <td>45.03</td>\n",
       "      <td>1543510800</td>\n",
       "      <td>30.30</td>\n",
       "      <td>1543550400</td>\n",
       "      <td>38.53</td>\n",
       "      <td>1543510800</td>\n",
       "    </tr>\n",
       "    <tr>\n",
       "      <th>4</th>\n",
       "      <td>e0126e1f-8ca9-4f2e-82b3-50505a09db9a</td>\n",
       "      <td>1.543463e+09</td>\n",
       "      <td>3</td>\n",
       "      <td>29</td>\n",
       "      <td>11</td>\n",
       "      <td>2018-11-29 03:49:20</td>\n",
       "      <td>America/New_York</td>\n",
       "      <td>Haymarket Square</td>\n",
       "      <td>North Station</td>\n",
       "      <td>Lyft</td>\n",
       "      <td>...</td>\n",
       "      <td>0.0001</td>\n",
       "      <td>1543420800</td>\n",
       "      <td>33.10</td>\n",
       "      <td>1543402800</td>\n",
       "      <td>42.18</td>\n",
       "      <td>1543420800</td>\n",
       "      <td>29.11</td>\n",
       "      <td>1543392000</td>\n",
       "      <td>35.75</td>\n",
       "      <td>1543420800</td>\n",
       "    </tr>\n",
       "  </tbody>\n",
       "</table>\n",
       "<p>5 rows × 57 columns</p>\n",
       "</div>"
      ],
      "text/plain": [
       "                                     id     timestamp  hour  day  month  \\\n",
       "0  424553bb-7174-41ea-aeb4-fe06d4f4b9d7  1.544953e+09     9   16     12   \n",
       "1  4bd23055-6827-41c6-b23b-3c491f24e74d  1.543284e+09     2   27     11   \n",
       "2  981a3613-77af-4620-a42a-0c0866077d1e  1.543367e+09     1   28     11   \n",
       "3  c2d88af2-d278-4bfd-a8d0-29ca77cc5512  1.543554e+09     4   30     11   \n",
       "4  e0126e1f-8ca9-4f2e-82b3-50505a09db9a  1.543463e+09     3   29     11   \n",
       "\n",
       "              datetime          timezone            source    destination  \\\n",
       "0  2018-12-16 09:30:07  America/New_York  Haymarket Square  North Station   \n",
       "1  2018-11-27 02:00:23  America/New_York  Haymarket Square  North Station   \n",
       "2  2018-11-28 01:00:22  America/New_York  Haymarket Square  North Station   \n",
       "3  2018-11-30 04:53:02  America/New_York  Haymarket Square  North Station   \n",
       "4  2018-11-29 03:49:20  America/New_York  Haymarket Square  North Station   \n",
       "\n",
       "  cab_type  ... precipIntensityMax uvIndexTime  temperatureMin  \\\n",
       "0     Lyft  ...             0.1276  1544979600           39.89   \n",
       "1     Lyft  ...             0.1300  1543251600           40.49   \n",
       "2     Lyft  ...             0.1064  1543338000           35.36   \n",
       "3     Lyft  ...             0.0000  1543507200           34.67   \n",
       "4     Lyft  ...             0.0001  1543420800           33.10   \n",
       "\n",
       "   temperatureMinTime  temperatureMax  temperatureMaxTime  \\\n",
       "0          1545012000           43.68          1544968800   \n",
       "1          1543233600           47.30          1543251600   \n",
       "2          1543377600           47.55          1543320000   \n",
       "3          1543550400           45.03          1543510800   \n",
       "4          1543402800           42.18          1543420800   \n",
       "\n",
       "   apparentTemperatureMin  apparentTemperatureMinTime  apparentTemperatureMax  \\\n",
       "0                   33.73                  1545012000                   38.07   \n",
       "1                   36.20                  1543291200                   43.92   \n",
       "2                   31.04                  1543377600                   44.12   \n",
       "3                   30.30                  1543550400                   38.53   \n",
       "4                   29.11                  1543392000                   35.75   \n",
       "\n",
       "  apparentTemperatureMaxTime  \n",
       "0                 1544958000  \n",
       "1                 1543251600  \n",
       "2                 1543320000  \n",
       "3                 1543510800  \n",
       "4                 1543420800  \n",
       "\n",
       "[5 rows x 57 columns]"
      ]
     },
     "execution_count": 17,
     "metadata": {},
     "output_type": "execute_result"
    }
   ],
   "source": [
    "df.head()"
   ]
  },
  {
   "cell_type": "code",
   "execution_count": 18,
   "id": "241bfcf8",
   "metadata": {},
   "outputs": [
    {
     "data": {
      "text/plain": [
       "Index(['id', 'timestamp', 'hour', 'day', 'month', 'datetime', 'timezone',\n",
       "       'source', 'destination', 'cab_type', 'product_id', 'name', 'price',\n",
       "       'distance', 'surge_multiplier', 'latitude', 'longitude', 'temperature',\n",
       "       'apparentTemperature', 'short_summary', 'long_summary',\n",
       "       'precipIntensity', 'precipProbability', 'humidity', 'windSpeed',\n",
       "       'windGust', 'windGustTime', 'visibility', 'temperatureHigh',\n",
       "       'temperatureHighTime', 'temperatureLow', 'temperatureLowTime',\n",
       "       'apparentTemperatureHigh', 'apparentTemperatureHighTime',\n",
       "       'apparentTemperatureLow', 'apparentTemperatureLowTime', 'icon',\n",
       "       'dewPoint', 'pressure', 'windBearing', 'cloudCover', 'uvIndex',\n",
       "       'visibility.1', 'ozone', 'sunriseTime', 'sunsetTime', 'moonPhase',\n",
       "       'precipIntensityMax', 'uvIndexTime', 'temperatureMin',\n",
       "       'temperatureMinTime', 'temperatureMax', 'temperatureMaxTime',\n",
       "       'apparentTemperatureMin', 'apparentTemperatureMinTime',\n",
       "       'apparentTemperatureMax', 'apparentTemperatureMaxTime'],\n",
       "      dtype='object')"
      ]
     },
     "execution_count": 18,
     "metadata": {},
     "output_type": "execute_result"
    }
   ],
   "source": [
    "df.columns"
   ]
  },
  {
   "cell_type": "code",
   "execution_count": 19,
   "id": "df4cd6dd",
   "metadata": {},
   "outputs": [
    {
     "data": {
      "text/html": [
       "<div>\n",
       "<style scoped>\n",
       "    .dataframe tbody tr th:only-of-type {\n",
       "        vertical-align: middle;\n",
       "    }\n",
       "\n",
       "    .dataframe tbody tr th {\n",
       "        vertical-align: top;\n",
       "    }\n",
       "\n",
       "    .dataframe thead th {\n",
       "        text-align: right;\n",
       "    }\n",
       "</style>\n",
       "<table border=\"1\" class=\"dataframe\">\n",
       "  <thead>\n",
       "    <tr style=\"text-align: right;\">\n",
       "      <th></th>\n",
       "      <th>id</th>\n",
       "      <th>timestamp</th>\n",
       "      <th>hour</th>\n",
       "      <th>day</th>\n",
       "      <th>month</th>\n",
       "      <th>datetime</th>\n",
       "      <th>timezone</th>\n",
       "      <th>source</th>\n",
       "      <th>destination</th>\n",
       "      <th>cab_type</th>\n",
       "      <th>...</th>\n",
       "      <th>precipIntensityMax</th>\n",
       "      <th>uvIndexTime</th>\n",
       "      <th>temperatureMin</th>\n",
       "      <th>temperatureMinTime</th>\n",
       "      <th>temperatureMax</th>\n",
       "      <th>temperatureMaxTime</th>\n",
       "      <th>apparentTemperatureMin</th>\n",
       "      <th>apparentTemperatureMinTime</th>\n",
       "      <th>apparentTemperatureMax</th>\n",
       "      <th>apparentTemperatureMaxTime</th>\n",
       "    </tr>\n",
       "  </thead>\n",
       "  <tbody>\n",
       "    <tr>\n",
       "      <th>693066</th>\n",
       "      <td>616d3611-1820-450a-9845-a9ff304a4842</td>\n",
       "      <td>1.543708e+09</td>\n",
       "      <td>23</td>\n",
       "      <td>1</td>\n",
       "      <td>12</td>\n",
       "      <td>2018-12-01 23:53:05</td>\n",
       "      <td>America/New_York</td>\n",
       "      <td>West End</td>\n",
       "      <td>North End</td>\n",
       "      <td>Uber</td>\n",
       "      <td>...</td>\n",
       "      <td>0.0</td>\n",
       "      <td>1543683600</td>\n",
       "      <td>31.42</td>\n",
       "      <td>1543658400</td>\n",
       "      <td>44.76</td>\n",
       "      <td>1543690800</td>\n",
       "      <td>27.77</td>\n",
       "      <td>1543658400</td>\n",
       "      <td>44.09</td>\n",
       "      <td>1543690800</td>\n",
       "    </tr>\n",
       "    <tr>\n",
       "      <th>693067</th>\n",
       "      <td>633a3fc3-1f86-4b9e-9d48-2b7132112341</td>\n",
       "      <td>1.543708e+09</td>\n",
       "      <td>23</td>\n",
       "      <td>1</td>\n",
       "      <td>12</td>\n",
       "      <td>2018-12-01 23:53:05</td>\n",
       "      <td>America/New_York</td>\n",
       "      <td>West End</td>\n",
       "      <td>North End</td>\n",
       "      <td>Uber</td>\n",
       "      <td>...</td>\n",
       "      <td>0.0</td>\n",
       "      <td>1543683600</td>\n",
       "      <td>31.42</td>\n",
       "      <td>1543658400</td>\n",
       "      <td>44.76</td>\n",
       "      <td>1543690800</td>\n",
       "      <td>27.77</td>\n",
       "      <td>1543658400</td>\n",
       "      <td>44.09</td>\n",
       "      <td>1543690800</td>\n",
       "    </tr>\n",
       "    <tr>\n",
       "      <th>693068</th>\n",
       "      <td>64d451d0-639f-47a4-9b7c-6fd92fbd264f</td>\n",
       "      <td>1.543708e+09</td>\n",
       "      <td>23</td>\n",
       "      <td>1</td>\n",
       "      <td>12</td>\n",
       "      <td>2018-12-01 23:53:05</td>\n",
       "      <td>America/New_York</td>\n",
       "      <td>West End</td>\n",
       "      <td>North End</td>\n",
       "      <td>Uber</td>\n",
       "      <td>...</td>\n",
       "      <td>0.0</td>\n",
       "      <td>1543683600</td>\n",
       "      <td>31.42</td>\n",
       "      <td>1543658400</td>\n",
       "      <td>44.76</td>\n",
       "      <td>1543690800</td>\n",
       "      <td>27.77</td>\n",
       "      <td>1543658400</td>\n",
       "      <td>44.09</td>\n",
       "      <td>1543690800</td>\n",
       "    </tr>\n",
       "    <tr>\n",
       "      <th>693069</th>\n",
       "      <td>727e5f07-a96b-4ad1-a2c7-9abc3ad55b4e</td>\n",
       "      <td>1.543708e+09</td>\n",
       "      <td>23</td>\n",
       "      <td>1</td>\n",
       "      <td>12</td>\n",
       "      <td>2018-12-01 23:53:05</td>\n",
       "      <td>America/New_York</td>\n",
       "      <td>West End</td>\n",
       "      <td>North End</td>\n",
       "      <td>Uber</td>\n",
       "      <td>...</td>\n",
       "      <td>0.0</td>\n",
       "      <td>1543683600</td>\n",
       "      <td>31.42</td>\n",
       "      <td>1543658400</td>\n",
       "      <td>44.76</td>\n",
       "      <td>1543690800</td>\n",
       "      <td>27.77</td>\n",
       "      <td>1543658400</td>\n",
       "      <td>44.09</td>\n",
       "      <td>1543690800</td>\n",
       "    </tr>\n",
       "    <tr>\n",
       "      <th>693070</th>\n",
       "      <td>e7fdc087-fe86-40a5-a3c3-3b2a8badcbda</td>\n",
       "      <td>1.543708e+09</td>\n",
       "      <td>23</td>\n",
       "      <td>1</td>\n",
       "      <td>12</td>\n",
       "      <td>2018-12-01 23:53:05</td>\n",
       "      <td>America/New_York</td>\n",
       "      <td>West End</td>\n",
       "      <td>North End</td>\n",
       "      <td>Uber</td>\n",
       "      <td>...</td>\n",
       "      <td>0.0</td>\n",
       "      <td>1543683600</td>\n",
       "      <td>31.42</td>\n",
       "      <td>1543658400</td>\n",
       "      <td>44.76</td>\n",
       "      <td>1543690800</td>\n",
       "      <td>27.77</td>\n",
       "      <td>1543658400</td>\n",
       "      <td>44.09</td>\n",
       "      <td>1543690800</td>\n",
       "    </tr>\n",
       "  </tbody>\n",
       "</table>\n",
       "<p>5 rows × 57 columns</p>\n",
       "</div>"
      ],
      "text/plain": [
       "                                          id     timestamp  hour  day  month  \\\n",
       "693066  616d3611-1820-450a-9845-a9ff304a4842  1.543708e+09    23    1     12   \n",
       "693067  633a3fc3-1f86-4b9e-9d48-2b7132112341  1.543708e+09    23    1     12   \n",
       "693068  64d451d0-639f-47a4-9b7c-6fd92fbd264f  1.543708e+09    23    1     12   \n",
       "693069  727e5f07-a96b-4ad1-a2c7-9abc3ad55b4e  1.543708e+09    23    1     12   \n",
       "693070  e7fdc087-fe86-40a5-a3c3-3b2a8badcbda  1.543708e+09    23    1     12   \n",
       "\n",
       "                   datetime          timezone    source destination cab_type  \\\n",
       "693066  2018-12-01 23:53:05  America/New_York  West End   North End     Uber   \n",
       "693067  2018-12-01 23:53:05  America/New_York  West End   North End     Uber   \n",
       "693068  2018-12-01 23:53:05  America/New_York  West End   North End     Uber   \n",
       "693069  2018-12-01 23:53:05  America/New_York  West End   North End     Uber   \n",
       "693070  2018-12-01 23:53:05  America/New_York  West End   North End     Uber   \n",
       "\n",
       "        ... precipIntensityMax uvIndexTime  temperatureMin  \\\n",
       "693066  ...                0.0  1543683600           31.42   \n",
       "693067  ...                0.0  1543683600           31.42   \n",
       "693068  ...                0.0  1543683600           31.42   \n",
       "693069  ...                0.0  1543683600           31.42   \n",
       "693070  ...                0.0  1543683600           31.42   \n",
       "\n",
       "        temperatureMinTime  temperatureMax  temperatureMaxTime  \\\n",
       "693066          1543658400           44.76          1543690800   \n",
       "693067          1543658400           44.76          1543690800   \n",
       "693068          1543658400           44.76          1543690800   \n",
       "693069          1543658400           44.76          1543690800   \n",
       "693070          1543658400           44.76          1543690800   \n",
       "\n",
       "        apparentTemperatureMin  apparentTemperatureMinTime  \\\n",
       "693066                   27.77                  1543658400   \n",
       "693067                   27.77                  1543658400   \n",
       "693068                   27.77                  1543658400   \n",
       "693069                   27.77                  1543658400   \n",
       "693070                   27.77                  1543658400   \n",
       "\n",
       "        apparentTemperatureMax apparentTemperatureMaxTime  \n",
       "693066                   44.09                 1543690800  \n",
       "693067                   44.09                 1543690800  \n",
       "693068                   44.09                 1543690800  \n",
       "693069                   44.09                 1543690800  \n",
       "693070                   44.09                 1543690800  \n",
       "\n",
       "[5 rows x 57 columns]"
      ]
     },
     "execution_count": 19,
     "metadata": {},
     "output_type": "execute_result"
    }
   ],
   "source": [
    "df.tail()"
   ]
  },
  {
   "cell_type": "code",
   "execution_count": 20,
   "id": "197a93fc",
   "metadata": {},
   "outputs": [
    {
     "data": {
      "text/plain": [
       "(693071, 57)"
      ]
     },
     "execution_count": 20,
     "metadata": {},
     "output_type": "execute_result"
    }
   ],
   "source": [
    "df.shape"
   ]
  },
  {
   "cell_type": "code",
   "execution_count": 21,
   "id": "ff4f3982",
   "metadata": {},
   "outputs": [
    {
     "data": {
      "text/plain": [
       "id                              object\n",
       "timestamp                      float64\n",
       "hour                             int64\n",
       "day                              int64\n",
       "month                            int64\n",
       "datetime                        object\n",
       "timezone                        object\n",
       "source                          object\n",
       "destination                     object\n",
       "cab_type                        object\n",
       "product_id                      object\n",
       "name                            object\n",
       "price                          float64\n",
       "distance                       float64\n",
       "surge_multiplier               float64\n",
       "latitude                       float64\n",
       "longitude                      float64\n",
       "temperature                    float64\n",
       "apparentTemperature            float64\n",
       "short_summary                   object\n",
       "long_summary                    object\n",
       "precipIntensity                float64\n",
       "precipProbability              float64\n",
       "humidity                       float64\n",
       "windSpeed                      float64\n",
       "windGust                       float64\n",
       "windGustTime                     int64\n",
       "visibility                     float64\n",
       "temperatureHigh                float64\n",
       "temperatureHighTime              int64\n",
       "temperatureLow                 float64\n",
       "temperatureLowTime               int64\n",
       "apparentTemperatureHigh        float64\n",
       "apparentTemperatureHighTime      int64\n",
       "apparentTemperatureLow         float64\n",
       "apparentTemperatureLowTime       int64\n",
       "icon                            object\n",
       "dewPoint                       float64\n",
       "pressure                       float64\n",
       "windBearing                      int64\n",
       "cloudCover                     float64\n",
       "uvIndex                          int64\n",
       "visibility.1                   float64\n",
       "ozone                          float64\n",
       "sunriseTime                      int64\n",
       "sunsetTime                       int64\n",
       "moonPhase                      float64\n",
       "precipIntensityMax             float64\n",
       "uvIndexTime                      int64\n",
       "temperatureMin                 float64\n",
       "temperatureMinTime               int64\n",
       "temperatureMax                 float64\n",
       "temperatureMaxTime               int64\n",
       "apparentTemperatureMin         float64\n",
       "apparentTemperatureMinTime       int64\n",
       "apparentTemperatureMax         float64\n",
       "apparentTemperatureMaxTime       int64\n",
       "dtype: object"
      ]
     },
     "execution_count": 21,
     "metadata": {},
     "output_type": "execute_result"
    }
   ],
   "source": [
    "df.dtypes"
   ]
  },
  {
   "cell_type": "code",
   "execution_count": 22,
   "id": "4db4327c",
   "metadata": {},
   "outputs": [
    {
     "name": "stdout",
     "output_type": "stream",
     "text": [
      "<class 'pandas.core.frame.DataFrame'>\n",
      "RangeIndex: 693071 entries, 0 to 693070\n",
      "Data columns (total 57 columns):\n",
      " #   Column                       Non-Null Count   Dtype  \n",
      "---  ------                       --------------   -----  \n",
      " 0   id                           693071 non-null  object \n",
      " 1   timestamp                    693071 non-null  float64\n",
      " 2   hour                         693071 non-null  int64  \n",
      " 3   day                          693071 non-null  int64  \n",
      " 4   month                        693071 non-null  int64  \n",
      " 5   datetime                     693071 non-null  object \n",
      " 6   timezone                     693071 non-null  object \n",
      " 7   source                       693071 non-null  object \n",
      " 8   destination                  693071 non-null  object \n",
      " 9   cab_type                     693071 non-null  object \n",
      " 10  product_id                   693071 non-null  object \n",
      " 11  name                         693071 non-null  object \n",
      " 12  price                        637976 non-null  float64\n",
      " 13  distance                     693071 non-null  float64\n",
      " 14  surge_multiplier             693071 non-null  float64\n",
      " 15  latitude                     693071 non-null  float64\n",
      " 16  longitude                    693071 non-null  float64\n",
      " 17  temperature                  693071 non-null  float64\n",
      " 18  apparentTemperature          693071 non-null  float64\n",
      " 19  short_summary                693071 non-null  object \n",
      " 20  long_summary                 693071 non-null  object \n",
      " 21  precipIntensity              693071 non-null  float64\n",
      " 22  precipProbability            693071 non-null  float64\n",
      " 23  humidity                     693071 non-null  float64\n",
      " 24  windSpeed                    693071 non-null  float64\n",
      " 25  windGust                     693071 non-null  float64\n",
      " 26  windGustTime                 693071 non-null  int64  \n",
      " 27  visibility                   693071 non-null  float64\n",
      " 28  temperatureHigh              693071 non-null  float64\n",
      " 29  temperatureHighTime          693071 non-null  int64  \n",
      " 30  temperatureLow               693071 non-null  float64\n",
      " 31  temperatureLowTime           693071 non-null  int64  \n",
      " 32  apparentTemperatureHigh      693071 non-null  float64\n",
      " 33  apparentTemperatureHighTime  693071 non-null  int64  \n",
      " 34  apparentTemperatureLow       693071 non-null  float64\n",
      " 35  apparentTemperatureLowTime   693071 non-null  int64  \n",
      " 36  icon                         693071 non-null  object \n",
      " 37  dewPoint                     693071 non-null  float64\n",
      " 38  pressure                     693071 non-null  float64\n",
      " 39  windBearing                  693071 non-null  int64  \n",
      " 40  cloudCover                   693071 non-null  float64\n",
      " 41  uvIndex                      693071 non-null  int64  \n",
      " 42  visibility.1                 693071 non-null  float64\n",
      " 43  ozone                        693071 non-null  float64\n",
      " 44  sunriseTime                  693071 non-null  int64  \n",
      " 45  sunsetTime                   693071 non-null  int64  \n",
      " 46  moonPhase                    693071 non-null  float64\n",
      " 47  precipIntensityMax           693071 non-null  float64\n",
      " 48  uvIndexTime                  693071 non-null  int64  \n",
      " 49  temperatureMin               693071 non-null  float64\n",
      " 50  temperatureMinTime           693071 non-null  int64  \n",
      " 51  temperatureMax               693071 non-null  float64\n",
      " 52  temperatureMaxTime           693071 non-null  int64  \n",
      " 53  apparentTemperatureMin       693071 non-null  float64\n",
      " 54  apparentTemperatureMinTime   693071 non-null  int64  \n",
      " 55  apparentTemperatureMax       693071 non-null  float64\n",
      " 56  apparentTemperatureMaxTime   693071 non-null  int64  \n",
      "dtypes: float64(29), int64(17), object(11)\n",
      "memory usage: 301.4+ MB\n"
     ]
    }
   ],
   "source": [
    "df.info()"
   ]
  },
  {
   "cell_type": "code",
   "execution_count": null,
   "id": "507295d5",
   "metadata": {},
   "outputs": [],
   "source": []
  },
  {
   "cell_type": "code",
   "execution_count": 23,
   "id": "fe768cc3",
   "metadata": {},
   "outputs": [],
   "source": [
    "df['datetime']=pd.to_datetime(df['datetime'])"
   ]
  },
  {
   "cell_type": "code",
   "execution_count": null,
   "id": "db78bfc0",
   "metadata": {},
   "outputs": [],
   "source": []
  },
  {
   "cell_type": "code",
   "execution_count": null,
   "id": "6951984c",
   "metadata": {},
   "outputs": [],
   "source": []
  },
  {
   "cell_type": "code",
   "execution_count": 24,
   "id": "d74b57f4",
   "metadata": {},
   "outputs": [
    {
     "data": {
      "text/plain": [
       "55095"
      ]
     },
     "execution_count": 24,
     "metadata": {},
     "output_type": "execute_result"
    }
   ],
   "source": [
    "df.isnull().sum().sum()"
   ]
  },
  {
   "cell_type": "code",
   "execution_count": 25,
   "id": "693de429",
   "metadata": {},
   "outputs": [],
   "source": [
    "df.dropna(axis=0,inplace=True)"
   ]
  },
  {
   "cell_type": "code",
   "execution_count": 26,
   "id": "258561b3",
   "metadata": {},
   "outputs": [
    {
     "data": {
      "text/plain": [
       "0"
      ]
     },
     "execution_count": 26,
     "metadata": {},
     "output_type": "execute_result"
    }
   ],
   "source": [
    "df.isnull().sum().sum()"
   ]
  },
  {
   "cell_type": "markdown",
   "id": "2a48aea4",
   "metadata": {},
   "source": [
    "# Data Manipulation & Vizualisation"
   ]
  },
  {
   "cell_type": "code",
   "execution_count": 27,
   "id": "c860c114",
   "metadata": {},
   "outputs": [],
   "source": [
    "def plot_bar(groupby_column):\n",
    "    df1 =df.groupby(groupby_column).size().reset_index(name=\"counts\")\n",
    "    fig1 = px.bar(data_frame=df1, x=groupby_column, y=\"counts\", color=groupby_column, barmode=\"group\")\n",
    "    print(df1)\n",
    "    fig1.show(renderer='png')"
   ]
  },
  {
   "cell_type": "code",
   "execution_count": 28,
   "id": "db8c562c",
   "metadata": {},
   "outputs": [
    {
     "data": {
      "text/plain": [
       "Uber    330568\n",
       "Lyft    307408\n",
       "Name: cab_type, dtype: int64"
      ]
     },
     "execution_count": 28,
     "metadata": {},
     "output_type": "execute_result"
    }
   ],
   "source": [
    "#count the occurences of a value in a column\n",
    "df['cab_type'].value_counts()"
   ]
  },
  {
   "cell_type": "code",
   "execution_count": null,
   "id": "b42bb5a0",
   "metadata": {},
   "outputs": [],
   "source": []
  },
  {
   "cell_type": "code",
   "execution_count": 29,
   "id": "b30ab8d5",
   "metadata": {},
   "outputs": [
    {
     "data": {
      "text/html": [
       "<div>\n",
       "<style scoped>\n",
       "    .dataframe tbody tr th:only-of-type {\n",
       "        vertical-align: middle;\n",
       "    }\n",
       "\n",
       "    .dataframe tbody tr th {\n",
       "        vertical-align: top;\n",
       "    }\n",
       "\n",
       "    .dataframe thead th {\n",
       "        text-align: right;\n",
       "    }\n",
       "</style>\n",
       "<table border=\"1\" class=\"dataframe\">\n",
       "  <thead>\n",
       "    <tr style=\"text-align: right;\">\n",
       "      <th></th>\n",
       "      <th>day</th>\n",
       "      <th>counts</th>\n",
       "    </tr>\n",
       "  </thead>\n",
       "  <tbody>\n",
       "    <tr>\n",
       "      <th>0</th>\n",
       "      <td>1</td>\n",
       "      <td>41680</td>\n",
       "    </tr>\n",
       "    <tr>\n",
       "      <th>1</th>\n",
       "      <td>2</td>\n",
       "      <td>41298</td>\n",
       "    </tr>\n",
       "    <tr>\n",
       "      <th>2</th>\n",
       "      <td>3</td>\n",
       "      <td>41323</td>\n",
       "    </tr>\n",
       "    <tr>\n",
       "      <th>3</th>\n",
       "      <td>4</td>\n",
       "      <td>11627</td>\n",
       "    </tr>\n",
       "    <tr>\n",
       "      <th>4</th>\n",
       "      <td>9</td>\n",
       "      <td>1529</td>\n",
       "    </tr>\n",
       "    <tr>\n",
       "      <th>5</th>\n",
       "      <td>10</td>\n",
       "      <td>2534</td>\n",
       "    </tr>\n",
       "    <tr>\n",
       "      <th>6</th>\n",
       "      <td>13</td>\n",
       "      <td>35496</td>\n",
       "    </tr>\n",
       "    <tr>\n",
       "      <th>7</th>\n",
       "      <td>14</td>\n",
       "      <td>41344</td>\n",
       "    </tr>\n",
       "    <tr>\n",
       "      <th>8</th>\n",
       "      <td>15</td>\n",
       "      <td>41332</td>\n",
       "    </tr>\n",
       "    <tr>\n",
       "      <th>9</th>\n",
       "      <td>16</td>\n",
       "      <td>41359</td>\n",
       "    </tr>\n",
       "    <tr>\n",
       "      <th>10</th>\n",
       "      <td>17</td>\n",
       "      <td>41354</td>\n",
       "    </tr>\n",
       "    <tr>\n",
       "      <th>11</th>\n",
       "      <td>18</td>\n",
       "      <td>33329</td>\n",
       "    </tr>\n",
       "    <tr>\n",
       "      <th>12</th>\n",
       "      <td>26</td>\n",
       "      <td>29028</td>\n",
       "    </tr>\n",
       "    <tr>\n",
       "      <th>13</th>\n",
       "      <td>27</td>\n",
       "      <td>70135</td>\n",
       "    </tr>\n",
       "    <tr>\n",
       "      <th>14</th>\n",
       "      <td>28</td>\n",
       "      <td>67842</td>\n",
       "    </tr>\n",
       "    <tr>\n",
       "      <th>15</th>\n",
       "      <td>29</td>\n",
       "      <td>55222</td>\n",
       "    </tr>\n",
       "    <tr>\n",
       "      <th>16</th>\n",
       "      <td>30</td>\n",
       "      <td>41544</td>\n",
       "    </tr>\n",
       "  </tbody>\n",
       "</table>\n",
       "</div>"
      ],
      "text/plain": [
       "    day  counts\n",
       "0     1   41680\n",
       "1     2   41298\n",
       "2     3   41323\n",
       "3     4   11627\n",
       "4     9    1529\n",
       "5    10    2534\n",
       "6    13   35496\n",
       "7    14   41344\n",
       "8    15   41332\n",
       "9    16   41359\n",
       "10   17   41354\n",
       "11   18   33329\n",
       "12   26   29028\n",
       "13   27   70135\n",
       "14   28   67842\n",
       "15   29   55222\n",
       "16   30   41544"
      ]
     },
     "execution_count": 29,
     "metadata": {},
     "output_type": "execute_result"
    }
   ],
   "source": [
    "day_count =df.groupby(by=[\"day\"]).size().reset_index(name=\"counts\")\n",
    "day_count"
   ]
  },
  {
   "cell_type": "code",
   "execution_count": 30,
   "id": "c0933454",
   "metadata": {
    "scrolled": true
   },
   "outputs": [
    {
     "data": {
      "application/vnd.plotly.v1+json": {
       "config": {
        "plotlyServerURL": "https://plot.ly"
       },
       "data": [
        {
         "alignmentgroup": "True",
         "hovertemplate": "cab_type=Lyft<br>day=%{x}<br>counts=%{y}<extra></extra>",
         "legendgroup": "Lyft",
         "marker": {
          "color": "#636efa",
          "pattern": {
           "shape": ""
          }
         },
         "name": "Lyft",
         "offsetgroup": "Lyft",
         "orientation": "v",
         "showlegend": true,
         "textposition": "auto",
         "type": "bar",
         "x": [
          1,
          2,
          3,
          4,
          9,
          10,
          13,
          14,
          15,
          16,
          17,
          18,
          26,
          27,
          28,
          29,
          30
         ],
         "xaxis": "x",
         "y": [
          20289,
          19845,
          20021,
          5704,
          668,
          1212,
          17005,
          20151,
          19906,
          20039,
          19685,
          15958,
          14000,
          33755,
          32791,
          26466,
          19913
         ],
         "yaxis": "y"
        },
        {
         "alignmentgroup": "True",
         "hovertemplate": "cab_type=Uber<br>day=%{x}<br>counts=%{y}<extra></extra>",
         "legendgroup": "Uber",
         "marker": {
          "color": "#EF553B",
          "pattern": {
           "shape": ""
          }
         },
         "name": "Uber",
         "offsetgroup": "Uber",
         "orientation": "v",
         "showlegend": true,
         "textposition": "auto",
         "type": "bar",
         "x": [
          1,
          2,
          3,
          4,
          9,
          10,
          13,
          14,
          15,
          16,
          17,
          18,
          26,
          27,
          28,
          29,
          30
         ],
         "xaxis": "x",
         "y": [
          21391,
          21453,
          21302,
          5923,
          861,
          1322,
          18491,
          21193,
          21426,
          21320,
          21669,
          17371,
          15028,
          36380,
          35051,
          28756,
          21631
         ],
         "yaxis": "y"
        }
       ],
       "layout": {
        "barmode": "group",
        "legend": {
         "title": {
          "text": "cab_type"
         },
         "tracegroupgap": 0
        },
        "margin": {
         "t": 60
        },
        "template": {
         "data": {
          "bar": [
           {
            "error_x": {
             "color": "#2a3f5f"
            },
            "error_y": {
             "color": "#2a3f5f"
            },
            "marker": {
             "line": {
              "color": "#E5ECF6",
              "width": 0.5
             },
             "pattern": {
              "fillmode": "overlay",
              "size": 10,
              "solidity": 0.2
             }
            },
            "type": "bar"
           }
          ],
          "barpolar": [
           {
            "marker": {
             "line": {
              "color": "#E5ECF6",
              "width": 0.5
             },
             "pattern": {
              "fillmode": "overlay",
              "size": 10,
              "solidity": 0.2
             }
            },
            "type": "barpolar"
           }
          ],
          "carpet": [
           {
            "aaxis": {
             "endlinecolor": "#2a3f5f",
             "gridcolor": "white",
             "linecolor": "white",
             "minorgridcolor": "white",
             "startlinecolor": "#2a3f5f"
            },
            "baxis": {
             "endlinecolor": "#2a3f5f",
             "gridcolor": "white",
             "linecolor": "white",
             "minorgridcolor": "white",
             "startlinecolor": "#2a3f5f"
            },
            "type": "carpet"
           }
          ],
          "choropleth": [
           {
            "colorbar": {
             "outlinewidth": 0,
             "ticks": ""
            },
            "type": "choropleth"
           }
          ],
          "contour": [
           {
            "colorbar": {
             "outlinewidth": 0,
             "ticks": ""
            },
            "colorscale": [
             [
              0,
              "#0d0887"
             ],
             [
              0.1111111111111111,
              "#46039f"
             ],
             [
              0.2222222222222222,
              "#7201a8"
             ],
             [
              0.3333333333333333,
              "#9c179e"
             ],
             [
              0.4444444444444444,
              "#bd3786"
             ],
             [
              0.5555555555555556,
              "#d8576b"
             ],
             [
              0.6666666666666666,
              "#ed7953"
             ],
             [
              0.7777777777777778,
              "#fb9f3a"
             ],
             [
              0.8888888888888888,
              "#fdca26"
             ],
             [
              1,
              "#f0f921"
             ]
            ],
            "type": "contour"
           }
          ],
          "contourcarpet": [
           {
            "colorbar": {
             "outlinewidth": 0,
             "ticks": ""
            },
            "type": "contourcarpet"
           }
          ],
          "heatmap": [
           {
            "colorbar": {
             "outlinewidth": 0,
             "ticks": ""
            },
            "colorscale": [
             [
              0,
              "#0d0887"
             ],
             [
              0.1111111111111111,
              "#46039f"
             ],
             [
              0.2222222222222222,
              "#7201a8"
             ],
             [
              0.3333333333333333,
              "#9c179e"
             ],
             [
              0.4444444444444444,
              "#bd3786"
             ],
             [
              0.5555555555555556,
              "#d8576b"
             ],
             [
              0.6666666666666666,
              "#ed7953"
             ],
             [
              0.7777777777777778,
              "#fb9f3a"
             ],
             [
              0.8888888888888888,
              "#fdca26"
             ],
             [
              1,
              "#f0f921"
             ]
            ],
            "type": "heatmap"
           }
          ],
          "heatmapgl": [
           {
            "colorbar": {
             "outlinewidth": 0,
             "ticks": ""
            },
            "colorscale": [
             [
              0,
              "#0d0887"
             ],
             [
              0.1111111111111111,
              "#46039f"
             ],
             [
              0.2222222222222222,
              "#7201a8"
             ],
             [
              0.3333333333333333,
              "#9c179e"
             ],
             [
              0.4444444444444444,
              "#bd3786"
             ],
             [
              0.5555555555555556,
              "#d8576b"
             ],
             [
              0.6666666666666666,
              "#ed7953"
             ],
             [
              0.7777777777777778,
              "#fb9f3a"
             ],
             [
              0.8888888888888888,
              "#fdca26"
             ],
             [
              1,
              "#f0f921"
             ]
            ],
            "type": "heatmapgl"
           }
          ],
          "histogram": [
           {
            "marker": {
             "pattern": {
              "fillmode": "overlay",
              "size": 10,
              "solidity": 0.2
             }
            },
            "type": "histogram"
           }
          ],
          "histogram2d": [
           {
            "colorbar": {
             "outlinewidth": 0,
             "ticks": ""
            },
            "colorscale": [
             [
              0,
              "#0d0887"
             ],
             [
              0.1111111111111111,
              "#46039f"
             ],
             [
              0.2222222222222222,
              "#7201a8"
             ],
             [
              0.3333333333333333,
              "#9c179e"
             ],
             [
              0.4444444444444444,
              "#bd3786"
             ],
             [
              0.5555555555555556,
              "#d8576b"
             ],
             [
              0.6666666666666666,
              "#ed7953"
             ],
             [
              0.7777777777777778,
              "#fb9f3a"
             ],
             [
              0.8888888888888888,
              "#fdca26"
             ],
             [
              1,
              "#f0f921"
             ]
            ],
            "type": "histogram2d"
           }
          ],
          "histogram2dcontour": [
           {
            "colorbar": {
             "outlinewidth": 0,
             "ticks": ""
            },
            "colorscale": [
             [
              0,
              "#0d0887"
             ],
             [
              0.1111111111111111,
              "#46039f"
             ],
             [
              0.2222222222222222,
              "#7201a8"
             ],
             [
              0.3333333333333333,
              "#9c179e"
             ],
             [
              0.4444444444444444,
              "#bd3786"
             ],
             [
              0.5555555555555556,
              "#d8576b"
             ],
             [
              0.6666666666666666,
              "#ed7953"
             ],
             [
              0.7777777777777778,
              "#fb9f3a"
             ],
             [
              0.8888888888888888,
              "#fdca26"
             ],
             [
              1,
              "#f0f921"
             ]
            ],
            "type": "histogram2dcontour"
           }
          ],
          "mesh3d": [
           {
            "colorbar": {
             "outlinewidth": 0,
             "ticks": ""
            },
            "type": "mesh3d"
           }
          ],
          "parcoords": [
           {
            "line": {
             "colorbar": {
              "outlinewidth": 0,
              "ticks": ""
             }
            },
            "type": "parcoords"
           }
          ],
          "pie": [
           {
            "automargin": true,
            "type": "pie"
           }
          ],
          "scatter": [
           {
            "marker": {
             "colorbar": {
              "outlinewidth": 0,
              "ticks": ""
             }
            },
            "type": "scatter"
           }
          ],
          "scatter3d": [
           {
            "line": {
             "colorbar": {
              "outlinewidth": 0,
              "ticks": ""
             }
            },
            "marker": {
             "colorbar": {
              "outlinewidth": 0,
              "ticks": ""
             }
            },
            "type": "scatter3d"
           }
          ],
          "scattercarpet": [
           {
            "marker": {
             "colorbar": {
              "outlinewidth": 0,
              "ticks": ""
             }
            },
            "type": "scattercarpet"
           }
          ],
          "scattergeo": [
           {
            "marker": {
             "colorbar": {
              "outlinewidth": 0,
              "ticks": ""
             }
            },
            "type": "scattergeo"
           }
          ],
          "scattergl": [
           {
            "marker": {
             "colorbar": {
              "outlinewidth": 0,
              "ticks": ""
             }
            },
            "type": "scattergl"
           }
          ],
          "scattermapbox": [
           {
            "marker": {
             "colorbar": {
              "outlinewidth": 0,
              "ticks": ""
             }
            },
            "type": "scattermapbox"
           }
          ],
          "scatterpolar": [
           {
            "marker": {
             "colorbar": {
              "outlinewidth": 0,
              "ticks": ""
             }
            },
            "type": "scatterpolar"
           }
          ],
          "scatterpolargl": [
           {
            "marker": {
             "colorbar": {
              "outlinewidth": 0,
              "ticks": ""
             }
            },
            "type": "scatterpolargl"
           }
          ],
          "scatterternary": [
           {
            "marker": {
             "colorbar": {
              "outlinewidth": 0,
              "ticks": ""
             }
            },
            "type": "scatterternary"
           }
          ],
          "surface": [
           {
            "colorbar": {
             "outlinewidth": 0,
             "ticks": ""
            },
            "colorscale": [
             [
              0,
              "#0d0887"
             ],
             [
              0.1111111111111111,
              "#46039f"
             ],
             [
              0.2222222222222222,
              "#7201a8"
             ],
             [
              0.3333333333333333,
              "#9c179e"
             ],
             [
              0.4444444444444444,
              "#bd3786"
             ],
             [
              0.5555555555555556,
              "#d8576b"
             ],
             [
              0.6666666666666666,
              "#ed7953"
             ],
             [
              0.7777777777777778,
              "#fb9f3a"
             ],
             [
              0.8888888888888888,
              "#fdca26"
             ],
             [
              1,
              "#f0f921"
             ]
            ],
            "type": "surface"
           }
          ],
          "table": [
           {
            "cells": {
             "fill": {
              "color": "#EBF0F8"
             },
             "line": {
              "color": "white"
             }
            },
            "header": {
             "fill": {
              "color": "#C8D4E3"
             },
             "line": {
              "color": "white"
             }
            },
            "type": "table"
           }
          ]
         },
         "layout": {
          "annotationdefaults": {
           "arrowcolor": "#2a3f5f",
           "arrowhead": 0,
           "arrowwidth": 1
          },
          "autotypenumbers": "strict",
          "coloraxis": {
           "colorbar": {
            "outlinewidth": 0,
            "ticks": ""
           }
          },
          "colorscale": {
           "diverging": [
            [
             0,
             "#8e0152"
            ],
            [
             0.1,
             "#c51b7d"
            ],
            [
             0.2,
             "#de77ae"
            ],
            [
             0.3,
             "#f1b6da"
            ],
            [
             0.4,
             "#fde0ef"
            ],
            [
             0.5,
             "#f7f7f7"
            ],
            [
             0.6,
             "#e6f5d0"
            ],
            [
             0.7,
             "#b8e186"
            ],
            [
             0.8,
             "#7fbc41"
            ],
            [
             0.9,
             "#4d9221"
            ],
            [
             1,
             "#276419"
            ]
           ],
           "sequential": [
            [
             0,
             "#0d0887"
            ],
            [
             0.1111111111111111,
             "#46039f"
            ],
            [
             0.2222222222222222,
             "#7201a8"
            ],
            [
             0.3333333333333333,
             "#9c179e"
            ],
            [
             0.4444444444444444,
             "#bd3786"
            ],
            [
             0.5555555555555556,
             "#d8576b"
            ],
            [
             0.6666666666666666,
             "#ed7953"
            ],
            [
             0.7777777777777778,
             "#fb9f3a"
            ],
            [
             0.8888888888888888,
             "#fdca26"
            ],
            [
             1,
             "#f0f921"
            ]
           ],
           "sequentialminus": [
            [
             0,
             "#0d0887"
            ],
            [
             0.1111111111111111,
             "#46039f"
            ],
            [
             0.2222222222222222,
             "#7201a8"
            ],
            [
             0.3333333333333333,
             "#9c179e"
            ],
            [
             0.4444444444444444,
             "#bd3786"
            ],
            [
             0.5555555555555556,
             "#d8576b"
            ],
            [
             0.6666666666666666,
             "#ed7953"
            ],
            [
             0.7777777777777778,
             "#fb9f3a"
            ],
            [
             0.8888888888888888,
             "#fdca26"
            ],
            [
             1,
             "#f0f921"
            ]
           ]
          },
          "colorway": [
           "#636efa",
           "#EF553B",
           "#00cc96",
           "#ab63fa",
           "#FFA15A",
           "#19d3f3",
           "#FF6692",
           "#B6E880",
           "#FF97FF",
           "#FECB52"
          ],
          "font": {
           "color": "#2a3f5f"
          },
          "geo": {
           "bgcolor": "white",
           "lakecolor": "white",
           "landcolor": "#E5ECF6",
           "showlakes": true,
           "showland": true,
           "subunitcolor": "white"
          },
          "hoverlabel": {
           "align": "left"
          },
          "hovermode": "closest",
          "mapbox": {
           "style": "light"
          },
          "paper_bgcolor": "white",
          "plot_bgcolor": "#E5ECF6",
          "polar": {
           "angularaxis": {
            "gridcolor": "white",
            "linecolor": "white",
            "ticks": ""
           },
           "bgcolor": "#E5ECF6",
           "radialaxis": {
            "gridcolor": "white",
            "linecolor": "white",
            "ticks": ""
           }
          },
          "scene": {
           "xaxis": {
            "backgroundcolor": "#E5ECF6",
            "gridcolor": "white",
            "gridwidth": 2,
            "linecolor": "white",
            "showbackground": true,
            "ticks": "",
            "zerolinecolor": "white"
           },
           "yaxis": {
            "backgroundcolor": "#E5ECF6",
            "gridcolor": "white",
            "gridwidth": 2,
            "linecolor": "white",
            "showbackground": true,
            "ticks": "",
            "zerolinecolor": "white"
           },
           "zaxis": {
            "backgroundcolor": "#E5ECF6",
            "gridcolor": "white",
            "gridwidth": 2,
            "linecolor": "white",
            "showbackground": true,
            "ticks": "",
            "zerolinecolor": "white"
           }
          },
          "shapedefaults": {
           "line": {
            "color": "#2a3f5f"
           }
          },
          "ternary": {
           "aaxis": {
            "gridcolor": "white",
            "linecolor": "white",
            "ticks": ""
           },
           "baxis": {
            "gridcolor": "white",
            "linecolor": "white",
            "ticks": ""
           },
           "bgcolor": "#E5ECF6",
           "caxis": {
            "gridcolor": "white",
            "linecolor": "white",
            "ticks": ""
           }
          },
          "title": {
           "x": 0.05
          },
          "xaxis": {
           "automargin": true,
           "gridcolor": "white",
           "linecolor": "white",
           "ticks": "",
           "title": {
            "standoff": 15
           },
           "zerolinecolor": "white",
           "zerolinewidth": 2
          },
          "yaxis": {
           "automargin": true,
           "gridcolor": "white",
           "linecolor": "white",
           "ticks": "",
           "title": {
            "standoff": 15
           },
           "zerolinecolor": "white",
           "zerolinewidth": 2
          }
         }
        },
        "xaxis": {
         "anchor": "y",
         "domain": [
          0,
          1
         ],
         "title": {
          "text": "day"
         }
        },
        "yaxis": {
         "anchor": "x",
         "domain": [
          0,
          1
         ],
         "title": {
          "text": "counts"
         }
        }
       }
      },
      "text/html": [
       "<div>                            <div id=\"d90c5157-7d1e-4cec-b4ec-c0c658a0fe3c\" class=\"plotly-graph-div\" style=\"height:525px; width:100%;\"></div>            <script type=\"text/javascript\">                require([\"plotly\"], function(Plotly) {                    window.PLOTLYENV=window.PLOTLYENV || {};                                    if (document.getElementById(\"d90c5157-7d1e-4cec-b4ec-c0c658a0fe3c\")) {                    Plotly.newPlot(                        \"d90c5157-7d1e-4cec-b4ec-c0c658a0fe3c\",                        [{\"alignmentgroup\":\"True\",\"hovertemplate\":\"cab_type=Lyft<br>day=%{x}<br>counts=%{y}<extra></extra>\",\"legendgroup\":\"Lyft\",\"marker\":{\"color\":\"#636efa\",\"pattern\":{\"shape\":\"\"}},\"name\":\"Lyft\",\"offsetgroup\":\"Lyft\",\"orientation\":\"v\",\"showlegend\":true,\"textposition\":\"auto\",\"x\":[1,2,3,4,9,10,13,14,15,16,17,18,26,27,28,29,30],\"xaxis\":\"x\",\"y\":[20289,19845,20021,5704,668,1212,17005,20151,19906,20039,19685,15958,14000,33755,32791,26466,19913],\"yaxis\":\"y\",\"type\":\"bar\"},{\"alignmentgroup\":\"True\",\"hovertemplate\":\"cab_type=Uber<br>day=%{x}<br>counts=%{y}<extra></extra>\",\"legendgroup\":\"Uber\",\"marker\":{\"color\":\"#EF553B\",\"pattern\":{\"shape\":\"\"}},\"name\":\"Uber\",\"offsetgroup\":\"Uber\",\"orientation\":\"v\",\"showlegend\":true,\"textposition\":\"auto\",\"x\":[1,2,3,4,9,10,13,14,15,16,17,18,26,27,28,29,30],\"xaxis\":\"x\",\"y\":[21391,21453,21302,5923,861,1322,18491,21193,21426,21320,21669,17371,15028,36380,35051,28756,21631],\"yaxis\":\"y\",\"type\":\"bar\"}],                        {\"template\":{\"data\":{\"bar\":[{\"error_x\":{\"color\":\"#2a3f5f\"},\"error_y\":{\"color\":\"#2a3f5f\"},\"marker\":{\"line\":{\"color\":\"#E5ECF6\",\"width\":0.5},\"pattern\":{\"fillmode\":\"overlay\",\"size\":10,\"solidity\":0.2}},\"type\":\"bar\"}],\"barpolar\":[{\"marker\":{\"line\":{\"color\":\"#E5ECF6\",\"width\":0.5},\"pattern\":{\"fillmode\":\"overlay\",\"size\":10,\"solidity\":0.2}},\"type\":\"barpolar\"}],\"carpet\":[{\"aaxis\":{\"endlinecolor\":\"#2a3f5f\",\"gridcolor\":\"white\",\"linecolor\":\"white\",\"minorgridcolor\":\"white\",\"startlinecolor\":\"#2a3f5f\"},\"baxis\":{\"endlinecolor\":\"#2a3f5f\",\"gridcolor\":\"white\",\"linecolor\":\"white\",\"minorgridcolor\":\"white\",\"startlinecolor\":\"#2a3f5f\"},\"type\":\"carpet\"}],\"choropleth\":[{\"colorbar\":{\"outlinewidth\":0,\"ticks\":\"\"},\"type\":\"choropleth\"}],\"contour\":[{\"colorbar\":{\"outlinewidth\":0,\"ticks\":\"\"},\"colorscale\":[[0.0,\"#0d0887\"],[0.1111111111111111,\"#46039f\"],[0.2222222222222222,\"#7201a8\"],[0.3333333333333333,\"#9c179e\"],[0.4444444444444444,\"#bd3786\"],[0.5555555555555556,\"#d8576b\"],[0.6666666666666666,\"#ed7953\"],[0.7777777777777778,\"#fb9f3a\"],[0.8888888888888888,\"#fdca26\"],[1.0,\"#f0f921\"]],\"type\":\"contour\"}],\"contourcarpet\":[{\"colorbar\":{\"outlinewidth\":0,\"ticks\":\"\"},\"type\":\"contourcarpet\"}],\"heatmap\":[{\"colorbar\":{\"outlinewidth\":0,\"ticks\":\"\"},\"colorscale\":[[0.0,\"#0d0887\"],[0.1111111111111111,\"#46039f\"],[0.2222222222222222,\"#7201a8\"],[0.3333333333333333,\"#9c179e\"],[0.4444444444444444,\"#bd3786\"],[0.5555555555555556,\"#d8576b\"],[0.6666666666666666,\"#ed7953\"],[0.7777777777777778,\"#fb9f3a\"],[0.8888888888888888,\"#fdca26\"],[1.0,\"#f0f921\"]],\"type\":\"heatmap\"}],\"heatmapgl\":[{\"colorbar\":{\"outlinewidth\":0,\"ticks\":\"\"},\"colorscale\":[[0.0,\"#0d0887\"],[0.1111111111111111,\"#46039f\"],[0.2222222222222222,\"#7201a8\"],[0.3333333333333333,\"#9c179e\"],[0.4444444444444444,\"#bd3786\"],[0.5555555555555556,\"#d8576b\"],[0.6666666666666666,\"#ed7953\"],[0.7777777777777778,\"#fb9f3a\"],[0.8888888888888888,\"#fdca26\"],[1.0,\"#f0f921\"]],\"type\":\"heatmapgl\"}],\"histogram\":[{\"marker\":{\"pattern\":{\"fillmode\":\"overlay\",\"size\":10,\"solidity\":0.2}},\"type\":\"histogram\"}],\"histogram2d\":[{\"colorbar\":{\"outlinewidth\":0,\"ticks\":\"\"},\"colorscale\":[[0.0,\"#0d0887\"],[0.1111111111111111,\"#46039f\"],[0.2222222222222222,\"#7201a8\"],[0.3333333333333333,\"#9c179e\"],[0.4444444444444444,\"#bd3786\"],[0.5555555555555556,\"#d8576b\"],[0.6666666666666666,\"#ed7953\"],[0.7777777777777778,\"#fb9f3a\"],[0.8888888888888888,\"#fdca26\"],[1.0,\"#f0f921\"]],\"type\":\"histogram2d\"}],\"histogram2dcontour\":[{\"colorbar\":{\"outlinewidth\":0,\"ticks\":\"\"},\"colorscale\":[[0.0,\"#0d0887\"],[0.1111111111111111,\"#46039f\"],[0.2222222222222222,\"#7201a8\"],[0.3333333333333333,\"#9c179e\"],[0.4444444444444444,\"#bd3786\"],[0.5555555555555556,\"#d8576b\"],[0.6666666666666666,\"#ed7953\"],[0.7777777777777778,\"#fb9f3a\"],[0.8888888888888888,\"#fdca26\"],[1.0,\"#f0f921\"]],\"type\":\"histogram2dcontour\"}],\"mesh3d\":[{\"colorbar\":{\"outlinewidth\":0,\"ticks\":\"\"},\"type\":\"mesh3d\"}],\"parcoords\":[{\"line\":{\"colorbar\":{\"outlinewidth\":0,\"ticks\":\"\"}},\"type\":\"parcoords\"}],\"pie\":[{\"automargin\":true,\"type\":\"pie\"}],\"scatter\":[{\"marker\":{\"colorbar\":{\"outlinewidth\":0,\"ticks\":\"\"}},\"type\":\"scatter\"}],\"scatter3d\":[{\"line\":{\"colorbar\":{\"outlinewidth\":0,\"ticks\":\"\"}},\"marker\":{\"colorbar\":{\"outlinewidth\":0,\"ticks\":\"\"}},\"type\":\"scatter3d\"}],\"scattercarpet\":[{\"marker\":{\"colorbar\":{\"outlinewidth\":0,\"ticks\":\"\"}},\"type\":\"scattercarpet\"}],\"scattergeo\":[{\"marker\":{\"colorbar\":{\"outlinewidth\":0,\"ticks\":\"\"}},\"type\":\"scattergeo\"}],\"scattergl\":[{\"marker\":{\"colorbar\":{\"outlinewidth\":0,\"ticks\":\"\"}},\"type\":\"scattergl\"}],\"scattermapbox\":[{\"marker\":{\"colorbar\":{\"outlinewidth\":0,\"ticks\":\"\"}},\"type\":\"scattermapbox\"}],\"scatterpolar\":[{\"marker\":{\"colorbar\":{\"outlinewidth\":0,\"ticks\":\"\"}},\"type\":\"scatterpolar\"}],\"scatterpolargl\":[{\"marker\":{\"colorbar\":{\"outlinewidth\":0,\"ticks\":\"\"}},\"type\":\"scatterpolargl\"}],\"scatterternary\":[{\"marker\":{\"colorbar\":{\"outlinewidth\":0,\"ticks\":\"\"}},\"type\":\"scatterternary\"}],\"surface\":[{\"colorbar\":{\"outlinewidth\":0,\"ticks\":\"\"},\"colorscale\":[[0.0,\"#0d0887\"],[0.1111111111111111,\"#46039f\"],[0.2222222222222222,\"#7201a8\"],[0.3333333333333333,\"#9c179e\"],[0.4444444444444444,\"#bd3786\"],[0.5555555555555556,\"#d8576b\"],[0.6666666666666666,\"#ed7953\"],[0.7777777777777778,\"#fb9f3a\"],[0.8888888888888888,\"#fdca26\"],[1.0,\"#f0f921\"]],\"type\":\"surface\"}],\"table\":[{\"cells\":{\"fill\":{\"color\":\"#EBF0F8\"},\"line\":{\"color\":\"white\"}},\"header\":{\"fill\":{\"color\":\"#C8D4E3\"},\"line\":{\"color\":\"white\"}},\"type\":\"table\"}]},\"layout\":{\"annotationdefaults\":{\"arrowcolor\":\"#2a3f5f\",\"arrowhead\":0,\"arrowwidth\":1},\"autotypenumbers\":\"strict\",\"coloraxis\":{\"colorbar\":{\"outlinewidth\":0,\"ticks\":\"\"}},\"colorscale\":{\"diverging\":[[0,\"#8e0152\"],[0.1,\"#c51b7d\"],[0.2,\"#de77ae\"],[0.3,\"#f1b6da\"],[0.4,\"#fde0ef\"],[0.5,\"#f7f7f7\"],[0.6,\"#e6f5d0\"],[0.7,\"#b8e186\"],[0.8,\"#7fbc41\"],[0.9,\"#4d9221\"],[1,\"#276419\"]],\"sequential\":[[0.0,\"#0d0887\"],[0.1111111111111111,\"#46039f\"],[0.2222222222222222,\"#7201a8\"],[0.3333333333333333,\"#9c179e\"],[0.4444444444444444,\"#bd3786\"],[0.5555555555555556,\"#d8576b\"],[0.6666666666666666,\"#ed7953\"],[0.7777777777777778,\"#fb9f3a\"],[0.8888888888888888,\"#fdca26\"],[1.0,\"#f0f921\"]],\"sequentialminus\":[[0.0,\"#0d0887\"],[0.1111111111111111,\"#46039f\"],[0.2222222222222222,\"#7201a8\"],[0.3333333333333333,\"#9c179e\"],[0.4444444444444444,\"#bd3786\"],[0.5555555555555556,\"#d8576b\"],[0.6666666666666666,\"#ed7953\"],[0.7777777777777778,\"#fb9f3a\"],[0.8888888888888888,\"#fdca26\"],[1.0,\"#f0f921\"]]},\"colorway\":[\"#636efa\",\"#EF553B\",\"#00cc96\",\"#ab63fa\",\"#FFA15A\",\"#19d3f3\",\"#FF6692\",\"#B6E880\",\"#FF97FF\",\"#FECB52\"],\"font\":{\"color\":\"#2a3f5f\"},\"geo\":{\"bgcolor\":\"white\",\"lakecolor\":\"white\",\"landcolor\":\"#E5ECF6\",\"showlakes\":true,\"showland\":true,\"subunitcolor\":\"white\"},\"hoverlabel\":{\"align\":\"left\"},\"hovermode\":\"closest\",\"mapbox\":{\"style\":\"light\"},\"paper_bgcolor\":\"white\",\"plot_bgcolor\":\"#E5ECF6\",\"polar\":{\"angularaxis\":{\"gridcolor\":\"white\",\"linecolor\":\"white\",\"ticks\":\"\"},\"bgcolor\":\"#E5ECF6\",\"radialaxis\":{\"gridcolor\":\"white\",\"linecolor\":\"white\",\"ticks\":\"\"}},\"scene\":{\"xaxis\":{\"backgroundcolor\":\"#E5ECF6\",\"gridcolor\":\"white\",\"gridwidth\":2,\"linecolor\":\"white\",\"showbackground\":true,\"ticks\":\"\",\"zerolinecolor\":\"white\"},\"yaxis\":{\"backgroundcolor\":\"#E5ECF6\",\"gridcolor\":\"white\",\"gridwidth\":2,\"linecolor\":\"white\",\"showbackground\":true,\"ticks\":\"\",\"zerolinecolor\":\"white\"},\"zaxis\":{\"backgroundcolor\":\"#E5ECF6\",\"gridcolor\":\"white\",\"gridwidth\":2,\"linecolor\":\"white\",\"showbackground\":true,\"ticks\":\"\",\"zerolinecolor\":\"white\"}},\"shapedefaults\":{\"line\":{\"color\":\"#2a3f5f\"}},\"ternary\":{\"aaxis\":{\"gridcolor\":\"white\",\"linecolor\":\"white\",\"ticks\":\"\"},\"baxis\":{\"gridcolor\":\"white\",\"linecolor\":\"white\",\"ticks\":\"\"},\"bgcolor\":\"#E5ECF6\",\"caxis\":{\"gridcolor\":\"white\",\"linecolor\":\"white\",\"ticks\":\"\"}},\"title\":{\"x\":0.05},\"xaxis\":{\"automargin\":true,\"gridcolor\":\"white\",\"linecolor\":\"white\",\"ticks\":\"\",\"title\":{\"standoff\":15},\"zerolinecolor\":\"white\",\"zerolinewidth\":2},\"yaxis\":{\"automargin\":true,\"gridcolor\":\"white\",\"linecolor\":\"white\",\"ticks\":\"\",\"title\":{\"standoff\":15},\"zerolinecolor\":\"white\",\"zerolinewidth\":2}}},\"xaxis\":{\"anchor\":\"y\",\"domain\":[0.0,1.0],\"title\":{\"text\":\"day\"}},\"yaxis\":{\"anchor\":\"x\",\"domain\":[0.0,1.0],\"title\":{\"text\":\"counts\"}},\"legend\":{\"title\":{\"text\":\"cab_type\"},\"tracegroupgap\":0},\"margin\":{\"t\":60},\"barmode\":\"group\"},                        {\"responsive\": true}                    ).then(function(){\n",
       "                            \n",
       "var gd = document.getElementById('d90c5157-7d1e-4cec-b4ec-c0c658a0fe3c');\n",
       "var x = new MutationObserver(function (mutations, observer) {{\n",
       "        var display = window.getComputedStyle(gd).display;\n",
       "        if (!display || display === 'none') {{\n",
       "            console.log([gd, 'removed!']);\n",
       "            Plotly.purge(gd);\n",
       "            observer.disconnect();\n",
       "        }}\n",
       "}});\n",
       "\n",
       "// Listen for the removal of the full notebook cells\n",
       "var notebookContainer = gd.closest('#notebook-container');\n",
       "if (notebookContainer) {{\n",
       "    x.observe(notebookContainer, {childList: true});\n",
       "}}\n",
       "\n",
       "// Listen for the clearing of the current output cell\n",
       "var outputEl = gd.closest('.output');\n",
       "if (outputEl) {{\n",
       "    x.observe(outputEl, {childList: true});\n",
       "}}\n",
       "\n",
       "                        })                };                });            </script>        </div>"
      ]
     },
     "metadata": {},
     "output_type": "display_data"
    }
   ],
   "source": [
    "import plotly.express as px\n",
    "day_count=df.groupby(by=[\"day\",\"cab_type\"]).size().reset_index(name=\"counts\")\n",
    "px.bar(data_frame=day_count, x=\"day\", y=\"counts\", color=\"cab_type\", barmode=\"group\")\n",
    "# It seems we have many gaps in our 'day' data. we don't have data from 18th day until 25th day in each month."
   ]
  },
  {
   "cell_type": "code",
   "execution_count": 31,
   "id": "adc919aa",
   "metadata": {},
   "outputs": [
    {
     "data": {
      "text/html": [
       "<div>\n",
       "<style scoped>\n",
       "    .dataframe tbody tr th:only-of-type {\n",
       "        vertical-align: middle;\n",
       "    }\n",
       "\n",
       "    .dataframe tbody tr th {\n",
       "        vertical-align: top;\n",
       "    }\n",
       "\n",
       "    .dataframe thead th {\n",
       "        text-align: right;\n",
       "    }\n",
       "</style>\n",
       "<table border=\"1\" class=\"dataframe\">\n",
       "  <thead>\n",
       "    <tr style=\"text-align: right;\">\n",
       "      <th></th>\n",
       "      <th>id</th>\n",
       "      <th>timestamp</th>\n",
       "      <th>hour</th>\n",
       "      <th>day</th>\n",
       "      <th>month</th>\n",
       "      <th>datetime</th>\n",
       "      <th>timezone</th>\n",
       "      <th>source</th>\n",
       "      <th>destination</th>\n",
       "      <th>cab_type</th>\n",
       "      <th>...</th>\n",
       "      <th>precipIntensityMax</th>\n",
       "      <th>uvIndexTime</th>\n",
       "      <th>temperatureMin</th>\n",
       "      <th>temperatureMinTime</th>\n",
       "      <th>temperatureMax</th>\n",
       "      <th>temperatureMaxTime</th>\n",
       "      <th>apparentTemperatureMin</th>\n",
       "      <th>apparentTemperatureMinTime</th>\n",
       "      <th>apparentTemperatureMax</th>\n",
       "      <th>apparentTemperatureMaxTime</th>\n",
       "    </tr>\n",
       "  </thead>\n",
       "  <tbody>\n",
       "    <tr>\n",
       "      <th>346401</th>\n",
       "      <td>dfd16807-be21-4d7a-80f1-e53b2f5a561a</td>\n",
       "      <td>1.543403e+09</td>\n",
       "      <td>11</td>\n",
       "      <td>28</td>\n",
       "      <td>11</td>\n",
       "      <td>2018-11-28 11:06:24</td>\n",
       "      <td>America/New_York</td>\n",
       "      <td>North End</td>\n",
       "      <td>Financial District</td>\n",
       "      <td>Uber</td>\n",
       "      <td>...</td>\n",
       "      <td>0.0000</td>\n",
       "      <td>1543420800</td>\n",
       "      <td>33.85</td>\n",
       "      <td>1543399200</td>\n",
       "      <td>42.61</td>\n",
       "      <td>1543438800</td>\n",
       "      <td>30.03</td>\n",
       "      <td>1543399200</td>\n",
       "      <td>36.57</td>\n",
       "      <td>1543438800</td>\n",
       "    </tr>\n",
       "    <tr>\n",
       "      <th>390693</th>\n",
       "      <td>0ecfb69d-b819-4cc6-a869-649fee0ebd4c</td>\n",
       "      <td>1.544872e+09</td>\n",
       "      <td>11</td>\n",
       "      <td>15</td>\n",
       "      <td>12</td>\n",
       "      <td>2018-12-15 11:05:07</td>\n",
       "      <td>America/New_York</td>\n",
       "      <td>Beacon Hill</td>\n",
       "      <td>Haymarket Square</td>\n",
       "      <td>Uber</td>\n",
       "      <td>...</td>\n",
       "      <td>0.0075</td>\n",
       "      <td>1544893200</td>\n",
       "      <td>39.78</td>\n",
       "      <td>1544929200</td>\n",
       "      <td>54.40</td>\n",
       "      <td>1544896800</td>\n",
       "      <td>36.64</td>\n",
       "      <td>1544929200</td>\n",
       "      <td>53.73</td>\n",
       "      <td>1544896800</td>\n",
       "    </tr>\n",
       "    <tr>\n",
       "      <th>390691</th>\n",
       "      <td>d04c979a-3d24-4422-87bb-bc1bfe9a4ffe</td>\n",
       "      <td>1.544872e+09</td>\n",
       "      <td>11</td>\n",
       "      <td>15</td>\n",
       "      <td>12</td>\n",
       "      <td>2018-12-15 11:05:07</td>\n",
       "      <td>America/New_York</td>\n",
       "      <td>South Station</td>\n",
       "      <td>Financial District</td>\n",
       "      <td>Uber</td>\n",
       "      <td>...</td>\n",
       "      <td>0.0075</td>\n",
       "      <td>1544893200</td>\n",
       "      <td>39.78</td>\n",
       "      <td>1544929200</td>\n",
       "      <td>54.40</td>\n",
       "      <td>1544896800</td>\n",
       "      <td>36.64</td>\n",
       "      <td>1544929200</td>\n",
       "      <td>53.73</td>\n",
       "      <td>1544896800</td>\n",
       "    </tr>\n",
       "    <tr>\n",
       "      <th>390690</th>\n",
       "      <td>6f918875-3929-4ad5-9e7e-964bb4843a1f</td>\n",
       "      <td>1.544915e+09</td>\n",
       "      <td>23</td>\n",
       "      <td>15</td>\n",
       "      <td>12</td>\n",
       "      <td>2018-12-15 23:00:11</td>\n",
       "      <td>America/New_York</td>\n",
       "      <td>South Station</td>\n",
       "      <td>Financial District</td>\n",
       "      <td>Uber</td>\n",
       "      <td>...</td>\n",
       "      <td>0.0081</td>\n",
       "      <td>1544893200</td>\n",
       "      <td>39.68</td>\n",
       "      <td>1544929200</td>\n",
       "      <td>54.46</td>\n",
       "      <td>1544896800</td>\n",
       "      <td>36.43</td>\n",
       "      <td>1544929200</td>\n",
       "      <td>53.79</td>\n",
       "      <td>1544896800</td>\n",
       "    </tr>\n",
       "    <tr>\n",
       "      <th>390689</th>\n",
       "      <td>6bf685e6-e105-45ea-b408-dc65b4628843</td>\n",
       "      <td>1.544915e+09</td>\n",
       "      <td>23</td>\n",
       "      <td>15</td>\n",
       "      <td>12</td>\n",
       "      <td>2018-12-15 23:00:11</td>\n",
       "      <td>America/New_York</td>\n",
       "      <td>South Station</td>\n",
       "      <td>Financial District</td>\n",
       "      <td>Uber</td>\n",
       "      <td>...</td>\n",
       "      <td>0.0081</td>\n",
       "      <td>1544893200</td>\n",
       "      <td>39.68</td>\n",
       "      <td>1544929200</td>\n",
       "      <td>54.46</td>\n",
       "      <td>1544896800</td>\n",
       "      <td>36.43</td>\n",
       "      <td>1544929200</td>\n",
       "      <td>53.79</td>\n",
       "      <td>1544896800</td>\n",
       "    </tr>\n",
       "    <tr>\n",
       "      <th>...</th>\n",
       "      <td>...</td>\n",
       "      <td>...</td>\n",
       "      <td>...</td>\n",
       "      <td>...</td>\n",
       "      <td>...</td>\n",
       "      <td>...</td>\n",
       "      <td>...</td>\n",
       "      <td>...</td>\n",
       "      <td>...</td>\n",
       "      <td>...</td>\n",
       "      <td>...</td>\n",
       "      <td>...</td>\n",
       "      <td>...</td>\n",
       "      <td>...</td>\n",
       "      <td>...</td>\n",
       "      <td>...</td>\n",
       "      <td>...</td>\n",
       "      <td>...</td>\n",
       "      <td>...</td>\n",
       "      <td>...</td>\n",
       "      <td>...</td>\n",
       "    </tr>\n",
       "    <tr>\n",
       "      <th>411458</th>\n",
       "      <td>3f1207b7-a95c-459b-8dc6-314fae822e18</td>\n",
       "      <td>1.543366e+09</td>\n",
       "      <td>0</td>\n",
       "      <td>28</td>\n",
       "      <td>11</td>\n",
       "      <td>2018-11-28 00:48:22</td>\n",
       "      <td>America/New_York</td>\n",
       "      <td>Beacon Hill</td>\n",
       "      <td>Haymarket Square</td>\n",
       "      <td>Lyft</td>\n",
       "      <td>...</td>\n",
       "      <td>0.1433</td>\n",
       "      <td>1543338000</td>\n",
       "      <td>36.13</td>\n",
       "      <td>1543377600</td>\n",
       "      <td>46.83</td>\n",
       "      <td>1543320000</td>\n",
       "      <td>32.05</td>\n",
       "      <td>1543377600</td>\n",
       "      <td>43.85</td>\n",
       "      <td>1543320000</td>\n",
       "    </tr>\n",
       "    <tr>\n",
       "      <th>411457</th>\n",
       "      <td>3ed73044-1b09-430d-962a-2fef618bb9cd</td>\n",
       "      <td>1.544672e+09</td>\n",
       "      <td>3</td>\n",
       "      <td>13</td>\n",
       "      <td>12</td>\n",
       "      <td>2018-12-13 03:25:10</td>\n",
       "      <td>America/New_York</td>\n",
       "      <td>Beacon Hill</td>\n",
       "      <td>Haymarket Square</td>\n",
       "      <td>Lyft</td>\n",
       "      <td>...</td>\n",
       "      <td>0.0000</td>\n",
       "      <td>1544634000</td>\n",
       "      <td>22.22</td>\n",
       "      <td>1544673600</td>\n",
       "      <td>37.92</td>\n",
       "      <td>1544637600</td>\n",
       "      <td>17.83</td>\n",
       "      <td>1544673600</td>\n",
       "      <td>30.42</td>\n",
       "      <td>1544637600</td>\n",
       "    </tr>\n",
       "    <tr>\n",
       "      <th>411456</th>\n",
       "      <td>2d398417-338d-4028-8450-80a9a250ba97</td>\n",
       "      <td>1.544672e+09</td>\n",
       "      <td>3</td>\n",
       "      <td>13</td>\n",
       "      <td>12</td>\n",
       "      <td>2018-12-13 03:25:10</td>\n",
       "      <td>America/New_York</td>\n",
       "      <td>Beacon Hill</td>\n",
       "      <td>Haymarket Square</td>\n",
       "      <td>Lyft</td>\n",
       "      <td>...</td>\n",
       "      <td>0.0000</td>\n",
       "      <td>1544634000</td>\n",
       "      <td>22.22</td>\n",
       "      <td>1544673600</td>\n",
       "      <td>37.92</td>\n",
       "      <td>1544637600</td>\n",
       "      <td>17.83</td>\n",
       "      <td>1544673600</td>\n",
       "      <td>30.42</td>\n",
       "      <td>1544637600</td>\n",
       "    </tr>\n",
       "    <tr>\n",
       "      <th>411455</th>\n",
       "      <td>14773ab3-6b99-421f-b48c-9e18e0052bfe</td>\n",
       "      <td>1.544672e+09</td>\n",
       "      <td>3</td>\n",
       "      <td>13</td>\n",
       "      <td>12</td>\n",
       "      <td>2018-12-13 03:25:10</td>\n",
       "      <td>America/New_York</td>\n",
       "      <td>Beacon Hill</td>\n",
       "      <td>Haymarket Square</td>\n",
       "      <td>Lyft</td>\n",
       "      <td>...</td>\n",
       "      <td>0.0000</td>\n",
       "      <td>1544634000</td>\n",
       "      <td>22.22</td>\n",
       "      <td>1544673600</td>\n",
       "      <td>37.92</td>\n",
       "      <td>1544637600</td>\n",
       "      <td>17.83</td>\n",
       "      <td>1544673600</td>\n",
       "      <td>30.42</td>\n",
       "      <td>1544637600</td>\n",
       "    </tr>\n",
       "    <tr>\n",
       "      <th>0</th>\n",
       "      <td>424553bb-7174-41ea-aeb4-fe06d4f4b9d7</td>\n",
       "      <td>1.544953e+09</td>\n",
       "      <td>9</td>\n",
       "      <td>16</td>\n",
       "      <td>12</td>\n",
       "      <td>2018-12-16 09:30:07</td>\n",
       "      <td>America/New_York</td>\n",
       "      <td>Haymarket Square</td>\n",
       "      <td>North Station</td>\n",
       "      <td>Lyft</td>\n",
       "      <td>...</td>\n",
       "      <td>0.1276</td>\n",
       "      <td>1544979600</td>\n",
       "      <td>39.89</td>\n",
       "      <td>1545012000</td>\n",
       "      <td>43.68</td>\n",
       "      <td>1544968800</td>\n",
       "      <td>33.73</td>\n",
       "      <td>1545012000</td>\n",
       "      <td>38.07</td>\n",
       "      <td>1544958000</td>\n",
       "    </tr>\n",
       "  </tbody>\n",
       "</table>\n",
       "<p>637976 rows × 57 columns</p>\n",
       "</div>"
      ],
      "text/plain": [
       "                                          id     timestamp  hour  day  month  \\\n",
       "346401  dfd16807-be21-4d7a-80f1-e53b2f5a561a  1.543403e+09    11   28     11   \n",
       "390693  0ecfb69d-b819-4cc6-a869-649fee0ebd4c  1.544872e+09    11   15     12   \n",
       "390691  d04c979a-3d24-4422-87bb-bc1bfe9a4ffe  1.544872e+09    11   15     12   \n",
       "390690  6f918875-3929-4ad5-9e7e-964bb4843a1f  1.544915e+09    23   15     12   \n",
       "390689  6bf685e6-e105-45ea-b408-dc65b4628843  1.544915e+09    23   15     12   \n",
       "...                                      ...           ...   ...  ...    ...   \n",
       "411458  3f1207b7-a95c-459b-8dc6-314fae822e18  1.543366e+09     0   28     11   \n",
       "411457  3ed73044-1b09-430d-962a-2fef618bb9cd  1.544672e+09     3   13     12   \n",
       "411456  2d398417-338d-4028-8450-80a9a250ba97  1.544672e+09     3   13     12   \n",
       "411455  14773ab3-6b99-421f-b48c-9e18e0052bfe  1.544672e+09     3   13     12   \n",
       "0       424553bb-7174-41ea-aeb4-fe06d4f4b9d7  1.544953e+09     9   16     12   \n",
       "\n",
       "                  datetime          timezone            source  \\\n",
       "346401 2018-11-28 11:06:24  America/New_York         North End   \n",
       "390693 2018-12-15 11:05:07  America/New_York       Beacon Hill   \n",
       "390691 2018-12-15 11:05:07  America/New_York     South Station   \n",
       "390690 2018-12-15 23:00:11  America/New_York     South Station   \n",
       "390689 2018-12-15 23:00:11  America/New_York     South Station   \n",
       "...                    ...               ...               ...   \n",
       "411458 2018-11-28 00:48:22  America/New_York       Beacon Hill   \n",
       "411457 2018-12-13 03:25:10  America/New_York       Beacon Hill   \n",
       "411456 2018-12-13 03:25:10  America/New_York       Beacon Hill   \n",
       "411455 2018-12-13 03:25:10  America/New_York       Beacon Hill   \n",
       "0      2018-12-16 09:30:07  America/New_York  Haymarket Square   \n",
       "\n",
       "               destination cab_type  ... precipIntensityMax uvIndexTime  \\\n",
       "346401  Financial District     Uber  ...             0.0000  1543420800   \n",
       "390693    Haymarket Square     Uber  ...             0.0075  1544893200   \n",
       "390691  Financial District     Uber  ...             0.0075  1544893200   \n",
       "390690  Financial District     Uber  ...             0.0081  1544893200   \n",
       "390689  Financial District     Uber  ...             0.0081  1544893200   \n",
       "...                    ...      ...  ...                ...         ...   \n",
       "411458    Haymarket Square     Lyft  ...             0.1433  1543338000   \n",
       "411457    Haymarket Square     Lyft  ...             0.0000  1544634000   \n",
       "411456    Haymarket Square     Lyft  ...             0.0000  1544634000   \n",
       "411455    Haymarket Square     Lyft  ...             0.0000  1544634000   \n",
       "0            North Station     Lyft  ...             0.1276  1544979600   \n",
       "\n",
       "        temperatureMin  temperatureMinTime  temperatureMax  \\\n",
       "346401           33.85          1543399200           42.61   \n",
       "390693           39.78          1544929200           54.40   \n",
       "390691           39.78          1544929200           54.40   \n",
       "390690           39.68          1544929200           54.46   \n",
       "390689           39.68          1544929200           54.46   \n",
       "...                ...                 ...             ...   \n",
       "411458           36.13          1543377600           46.83   \n",
       "411457           22.22          1544673600           37.92   \n",
       "411456           22.22          1544673600           37.92   \n",
       "411455           22.22          1544673600           37.92   \n",
       "0                39.89          1545012000           43.68   \n",
       "\n",
       "        temperatureMaxTime  apparentTemperatureMin  \\\n",
       "346401          1543438800                   30.03   \n",
       "390693          1544896800                   36.64   \n",
       "390691          1544896800                   36.64   \n",
       "390690          1544896800                   36.43   \n",
       "390689          1544896800                   36.43   \n",
       "...                    ...                     ...   \n",
       "411458          1543320000                   32.05   \n",
       "411457          1544637600                   17.83   \n",
       "411456          1544637600                   17.83   \n",
       "411455          1544637600                   17.83   \n",
       "0               1544968800                   33.73   \n",
       "\n",
       "        apparentTemperatureMinTime  apparentTemperatureMax  \\\n",
       "346401                  1543399200                   36.57   \n",
       "390693                  1544929200                   53.73   \n",
       "390691                  1544929200                   53.73   \n",
       "390690                  1544929200                   53.79   \n",
       "390689                  1544929200                   53.79   \n",
       "...                            ...                     ...   \n",
       "411458                  1543377600                   43.85   \n",
       "411457                  1544673600                   30.42   \n",
       "411456                  1544673600                   30.42   \n",
       "411455                  1544673600                   30.42   \n",
       "0                       1545012000                   38.07   \n",
       "\n",
       "       apparentTemperatureMaxTime  \n",
       "346401                 1543438800  \n",
       "390693                 1544896800  \n",
       "390691                 1544896800  \n",
       "390690                 1544896800  \n",
       "390689                 1544896800  \n",
       "...                           ...  \n",
       "411458                 1543320000  \n",
       "411457                 1544637600  \n",
       "411456                 1544637600  \n",
       "411455                 1544637600  \n",
       "0                      1544958000  \n",
       "\n",
       "[637976 rows x 57 columns]"
      ]
     },
     "execution_count": 31,
     "metadata": {},
     "output_type": "execute_result"
    }
   ],
   "source": [
    "#Sort the values by the column cab_type\n",
    "df.sort_values(\"cab_type\",inplace = True, ascending = False)\n",
    "df"
   ]
  },
  {
   "cell_type": "code",
   "execution_count": 32,
   "id": "6f55b7bb",
   "metadata": {},
   "outputs": [
    {
     "name": "stdout",
     "output_type": "stream",
     "text": [
      "Maximum price in our data : 97.5\n"
     ]
    },
    {
     "data": {
      "text/html": [
       "<div>\n",
       "<style scoped>\n",
       "    .dataframe tbody tr th:only-of-type {\n",
       "        vertical-align: middle;\n",
       "    }\n",
       "\n",
       "    .dataframe tbody tr th {\n",
       "        vertical-align: top;\n",
       "    }\n",
       "\n",
       "    .dataframe thead th {\n",
       "        text-align: right;\n",
       "    }\n",
       "</style>\n",
       "<table border=\"1\" class=\"dataframe\">\n",
       "  <thead>\n",
       "    <tr style=\"text-align: right;\">\n",
       "      <th></th>\n",
       "      <th>id</th>\n",
       "      <th>timestamp</th>\n",
       "      <th>hour</th>\n",
       "      <th>day</th>\n",
       "      <th>month</th>\n",
       "      <th>datetime</th>\n",
       "      <th>timezone</th>\n",
       "      <th>source</th>\n",
       "      <th>destination</th>\n",
       "      <th>cab_type</th>\n",
       "      <th>...</th>\n",
       "      <th>precipIntensityMax</th>\n",
       "      <th>uvIndexTime</th>\n",
       "      <th>temperatureMin</th>\n",
       "      <th>temperatureMinTime</th>\n",
       "      <th>temperatureMax</th>\n",
       "      <th>temperatureMaxTime</th>\n",
       "      <th>apparentTemperatureMin</th>\n",
       "      <th>apparentTemperatureMinTime</th>\n",
       "      <th>apparentTemperatureMax</th>\n",
       "      <th>apparentTemperatureMaxTime</th>\n",
       "    </tr>\n",
       "  </thead>\n",
       "  <tbody>\n",
       "    <tr>\n",
       "      <th>597071</th>\n",
       "      <td>ba1593a1-e4fd-4c7a-a011-e2d4fccbf081</td>\n",
       "      <td>1.543714e+09</td>\n",
       "      <td>1</td>\n",
       "      <td>2</td>\n",
       "      <td>12</td>\n",
       "      <td>2018-12-02 01:28:02</td>\n",
       "      <td>America/New_York</td>\n",
       "      <td>Financial District</td>\n",
       "      <td>Fenway</td>\n",
       "      <td>Lyft</td>\n",
       "      <td>...</td>\n",
       "      <td>0.0</td>\n",
       "      <td>1543683600</td>\n",
       "      <td>31.57</td>\n",
       "      <td>1543665600</td>\n",
       "      <td>44.65</td>\n",
       "      <td>1543690800</td>\n",
       "      <td>28.1</td>\n",
       "      <td>1543658400</td>\n",
       "      <td>43.98</td>\n",
       "      <td>1543690800</td>\n",
       "    </tr>\n",
       "  </tbody>\n",
       "</table>\n",
       "<p>1 rows × 57 columns</p>\n",
       "</div>"
      ],
      "text/plain": [
       "                                          id     timestamp  hour  day  month  \\\n",
       "597071  ba1593a1-e4fd-4c7a-a011-e2d4fccbf081  1.543714e+09     1    2     12   \n",
       "\n",
       "                  datetime          timezone              source destination  \\\n",
       "597071 2018-12-02 01:28:02  America/New_York  Financial District      Fenway   \n",
       "\n",
       "       cab_type  ... precipIntensityMax uvIndexTime  temperatureMin  \\\n",
       "597071     Lyft  ...                0.0  1543683600           31.57   \n",
       "\n",
       "        temperatureMinTime  temperatureMax  temperatureMaxTime  \\\n",
       "597071          1543665600           44.65          1543690800   \n",
       "\n",
       "        apparentTemperatureMin  apparentTemperatureMinTime  \\\n",
       "597071                    28.1                  1543658400   \n",
       "\n",
       "        apparentTemperatureMax apparentTemperatureMaxTime  \n",
       "597071                   43.98                 1543690800  \n",
       "\n",
       "[1 rows x 57 columns]"
      ]
     },
     "execution_count": 32,
     "metadata": {},
     "output_type": "execute_result"
    }
   ],
   "source": [
    "print('Maximum price in our data :',df.price.max())\n",
    "df[df['price']==df.price.max()]"
   ]
  },
  {
   "cell_type": "code",
   "execution_count": 33,
   "id": "d4678339",
   "metadata": {},
   "outputs": [],
   "source": [
    "# so our average mean is 16.54 but our maximum price is 97.5. so there is an possible outlier so dropping the max price. So, removed outlier from price"
   ]
  },
  {
   "cell_type": "code",
   "execution_count": 34,
   "id": "0d870dfb",
   "metadata": {},
   "outputs": [
    {
     "data": {
      "text/plain": [
       "price    16.545125\n",
       "dtype: float64"
      ]
     },
     "execution_count": 34,
     "metadata": {},
     "output_type": "execute_result"
    }
   ],
   "source": [
    "df[['price']].mean(axis=0)"
   ]
  },
  {
   "cell_type": "code",
   "execution_count": 35,
   "id": "f8db9a9d",
   "metadata": {},
   "outputs": [],
   "source": [
    "df = df.loc[df['price']!=df.price.max()]"
   ]
  },
  {
   "cell_type": "code",
   "execution_count": 36,
   "id": "f5c2b9f4",
   "metadata": {},
   "outputs": [],
   "source": [
    "# moving forward, I will be checking correlation between different set of variables with our target variables.\n",
    "#checking correlation of all the tempearture variables with target variable price"
   ]
  },
  {
   "cell_type": "code",
   "execution_count": 37,
   "id": "59961fcc",
   "metadata": {},
   "outputs": [],
   "source": [
    "Correlationmatrix = df[['temperature','apparentTemperature','temperatureHigh','temperatureLow','apparentTemperatureHigh',\n",
    "                'apparentTemperatureLow','temperatureMin','temperatureHighTime','temperatureMax','apparentTemperatureMin','apparentTemperatureMax','price']].corr()"
   ]
  },
  {
   "cell_type": "code",
   "execution_count": 38,
   "id": "446029ca",
   "metadata": {},
   "outputs": [
    {
     "data": {
      "image/png": "[encoded data removed]",
      "text/plain": [
       "<Figure size 432x288 with 2 Axes>"
      ]
     },
     "metadata": {
      "needs_background": "light"
     },
     "output_type": "display_data"
    }
   ],
   "source": [
    "Correlationmatrix = df[['temperature','apparentTemperature','temperatureHigh','temperatureLow','apparentTemperatureHigh',\n",
    "                'apparentTemperatureLow','temperatureMin','temperatureHighTime','temperatureMax','apparentTemperatureMin','apparentTemperatureMax','price']].corr().round(4)\n",
    "sns.heatmap(Correlationmatrix, annot=True)\n",
    "plt.title(\"Correlation Matrix\")\n",
    "plt.show()"
   ]
  },
  {
   "cell_type": "code",
   "execution_count": 39,
   "id": "1110fb96",
   "metadata": {},
   "outputs": [],
   "source": [
    "#So all the tempearture related variables have weak correlation with the target variable price"
   ]
  },
  {
   "cell_type": "code",
   "execution_count": 40,
   "id": "ea88279f",
   "metadata": {},
   "outputs": [],
   "source": [
    "df1=df.drop(['temperature','apparentTemperature','temperatureHigh','temperatureLow','apparentTemperatureHigh',\n",
    "                'apparentTemperatureLow','temperatureMin','temperatureHighTime','temperatureMax','apparentTemperatureMin','apparentTemperatureMax'],axis=1)"
   ]
  },
  {
   "cell_type": "code",
   "execution_count": 41,
   "id": "891e01e8",
   "metadata": {},
   "outputs": [
    {
     "data": {
      "text/plain": [
       "(637975, 46)"
      ]
     },
     "execution_count": 41,
     "metadata": {},
     "output_type": "execute_result"
    }
   ],
   "source": [
    "df1.shape"
   ]
  },
  {
   "cell_type": "code",
   "execution_count": 47,
   "id": "a34cdd16",
   "metadata": {},
   "outputs": [
    {
     "data": {
      "text/plain": [
       "Index(['id', 'timestamp', 'hour', 'day', 'month', 'datetime', 'timezone',\n",
       "       'source', 'destination', 'cab_type', 'product_id', 'name', 'price',\n",
       "       'distance', 'surge_multiplier', 'latitude', 'longitude',\n",
       "       'short_summary', 'long_summary', 'precipIntensity', 'precipProbability',\n",
       "       'humidity', 'windSpeed', 'windGust', 'windGustTime', 'visibility',\n",
       "       'temperatureLowTime', 'apparentTemperatureHighTime',\n",
       "       'apparentTemperatureLowTime', 'icon', 'dewPoint', 'pressure',\n",
       "       'windBearing', 'cloudCover', 'uvIndex', 'visibility.1', 'ozone',\n",
       "       'sunriseTime', 'sunsetTime', 'moonPhase', 'precipIntensityMax',\n",
       "       'uvIndexTime', 'temperatureMinTime', 'temperatureMaxTime',\n",
       "       'apparentTemperatureMinTime', 'apparentTemperatureMaxTime'],\n",
       "      dtype='object')"
      ]
     },
     "execution_count": 47,
     "metadata": {},
     "output_type": "execute_result"
    }
   ],
   "source": [
    "df1.columns"
   ]
  },
  {
   "cell_type": "code",
   "execution_count": 43,
   "id": "db2bcd44",
   "metadata": {},
   "outputs": [],
   "source": [
    "#similarly with climate features"
   ]
  },
  {
   "cell_type": "code",
   "execution_count": 48,
   "id": "3607ac6e",
   "metadata": {},
   "outputs": [],
   "source": [
    "Correlationmatrix = df[['precipIntensity', 'precipProbability', 'humidity', 'windSpeed',\n",
    "       'windGust', 'visibility', 'dewPoint', 'pressure', 'windBearing',\n",
    "       'cloudCover', 'uvIndex', 'ozone', 'moonPhase',\n",
    "       'precipIntensityMax','price']].corr()"
   ]
  },
  {
   "cell_type": "code",
   "execution_count": 49,
   "id": "ac8cbecd",
   "metadata": {},
   "outputs": [
    {
     "data": {
      "image/png": "[encoded data removed]",
      "text/plain": [
       "<Figure size 432x288 with 2 Axes>"
      ]
     },
     "metadata": {
      "needs_background": "light"
     },
     "output_type": "display_data"
    }
   ],
   "source": [
    "Correlationmatrix = df[['precipIntensity', 'precipProbability', 'humidity', 'windSpeed',\n",
    "       'windGust', 'visibility', 'dewPoint', 'pressure', 'windBearing',\n",
    "       'cloudCover', 'uvIndex', 'ozone', 'moonPhase',\n",
    "       'precipIntensityMax','price']].corr().round(4)\n",
    "sns.heatmap(Correlationmatrix, annot=True)\n",
    "plt.title(\"Correlation Matrix\")\n",
    "plt.show()"
   ]
  },
  {
   "cell_type": "code",
   "execution_count": 50,
   "id": "bc61b275",
   "metadata": {},
   "outputs": [],
   "source": [
    "df2=df1.drop(['precipIntensity', 'precipProbability', 'humidity', 'windSpeed',\n",
    "       'windGust', 'visibility', 'dewPoint', 'pressure', 'windBearing',\n",
    "       'cloudCover', 'uvIndex', 'ozone', 'moonPhase',\n",
    "       'precipIntensityMax'],axis=1)"
   ]
  },
  {
   "cell_type": "code",
   "execution_count": 51,
   "id": "9d2b42ff",
   "metadata": {},
   "outputs": [
    {
     "data": {
      "text/plain": [
       "Index(['id', 'timestamp', 'hour', 'day', 'month', 'datetime', 'timezone',\n",
       "       'source', 'destination', 'cab_type', 'product_id', 'name', 'price',\n",
       "       'distance', 'surge_multiplier', 'latitude', 'longitude',\n",
       "       'short_summary', 'long_summary', 'windGustTime', 'temperatureLowTime',\n",
       "       'apparentTemperatureHighTime', 'apparentTemperatureLowTime', 'icon',\n",
       "       'visibility.1', 'sunriseTime', 'sunsetTime', 'uvIndexTime',\n",
       "       'temperatureMinTime', 'temperatureMaxTime',\n",
       "       'apparentTemperatureMinTime', 'apparentTemperatureMaxTime'],\n",
       "      dtype='object')"
      ]
     },
     "execution_count": 51,
     "metadata": {},
     "output_type": "execute_result"
    }
   ],
   "source": [
    "df2.columns"
   ]
  },
  {
   "cell_type": "code",
   "execution_count": 52,
   "id": "a777970d",
   "metadata": {},
   "outputs": [
    {
     "data": {
      "text/plain": [
       "(637975, 32)"
      ]
     },
     "execution_count": 52,
     "metadata": {},
     "output_type": "execute_result"
    }
   ],
   "source": [
    "df2.shape"
   ]
  },
  {
   "cell_type": "code",
   "execution_count": 53,
   "id": "08ec46a8",
   "metadata": {},
   "outputs": [
    {
     "name": "stdout",
     "output_type": "stream",
     "text": [
      "id : ['dfd16807-be21-4d7a-80f1-e53b2f5a561a'\n",
      " '0ecfb69d-b819-4cc6-a869-649fee0ebd4c'\n",
      " 'd04c979a-3d24-4422-87bb-bc1bfe9a4ffe' ...\n",
      " '2d398417-338d-4028-8450-80a9a250ba97'\n",
      " '14773ab3-6b99-421f-b48c-9e18e0052bfe'\n",
      " '424553bb-7174-41ea-aeb4-fe06d4f4b9d7']\n",
      "\n",
      "timezone : ['America/New_York']\n",
      "\n",
      "source : ['North End' 'Beacon Hill' 'South Station' 'Theatre District' 'Fenway'\n",
      " 'West End' 'Haymarket Square' 'Northeastern University' 'Back Bay'\n",
      " 'North Station' 'Financial District' 'Boston University']\n",
      "\n",
      "destination : ['Financial District' 'Haymarket Square' 'South Station' 'Beacon Hill'\n",
      " 'North Station' 'Theatre District' 'Northeastern University' 'West End'\n",
      " 'Fenway' 'North End' 'Back Bay' 'Boston University']\n",
      "\n",
      "cab_type : ['Uber' 'Lyft']\n",
      "\n",
      "product_id : ['55c66225-fbe7-4fd5-9072-eab1ece5e23e'\n",
      " '6d318bcc-22a3-4af6-bddd-b409bfce1546'\n",
      " '997acbb5-e102-41e1-b155-9df7de0a73f2'\n",
      " '9a0e7b09-b92b-4c41-9779-2ad22b4d779d'\n",
      " '6c84fd89-3f11-4782-9b50-97c468b19529'\n",
      " '6f72dfc5-27f1-42e8-84db-ccc7a75f6969' 'lyft_premier' 'lyft_line'\n",
      " 'lyft_lux' 'lyft' 'lyft_plus' 'lyft_luxsuv']\n",
      "\n",
      "name : ['UberX' 'Black SUV' 'UberPool' 'WAV' 'Black' 'UberXL' 'Lux' 'Shared'\n",
      " 'Lux Black' 'Lyft' 'Lyft XL' 'Lux Black XL']\n",
      "\n",
      "short_summary : [' Mostly Cloudy ' ' Overcast ' ' Partly Cloudy ' ' Drizzle '\n",
      " ' Possible Drizzle ' ' Light Rain ' ' Clear ' ' Rain ' ' Foggy ']\n",
      "\n",
      "long_summary : [' Mostly cloudy throughout the day. '\n",
      " ' Partly cloudy throughout the day. '\n",
      " ' Light rain in the morning and overnight. '\n",
      " ' Light rain until evening. '\n",
      " ' Rain until morning, starting again in the evening. '\n",
      " ' Light rain in the morning. ' ' Rain throughout the day. '\n",
      " ' Overcast throughout the day. ' ' Foggy in the morning. '\n",
      " ' Possible drizzle in the morning. '\n",
      " ' Rain in the morning and afternoon. ']\n",
      "\n",
      "icon : [' partly-cloudy-night ' ' cloudy ' ' partly-cloudy-day ' ' rain '\n",
      " ' clear-night ' ' clear-day ' ' fog ']\n",
      "\n"
     ]
    }
   ],
   "source": [
    "df3 = df2.select_dtypes(include=['object','category']).columns.tolist()\n",
    "for column in df[df3]:\n",
    "    print(f'{column} : {df2[column].unique()}')\n",
    "    print()"
   ]
  },
  {
   "cell_type": "code",
   "execution_count": null,
   "id": "de479ff0",
   "metadata": {},
   "outputs": [],
   "source": [
    "#id ,icon,long_summary,short_summary,cab_type,destination,source,name"
   ]
  },
  {
   "cell_type": "code",
   "execution_count": 54,
   "id": "9d76eebd",
   "metadata": {},
   "outputs": [],
   "source": [
    "df4 = df2.drop(['timezone','product_id'],axis=1)"
   ]
  },
  {
   "cell_type": "code",
   "execution_count": null,
   "id": "4c90e7a8",
   "metadata": {},
   "outputs": [],
   "source": []
  },
  {
   "cell_type": "code",
   "execution_count": 55,
   "id": "a0c9fe09",
   "metadata": {},
   "outputs": [
    {
     "data": {
      "text/plain": [
       "(637975, 30)"
      ]
     },
     "execution_count": 55,
     "metadata": {},
     "output_type": "execute_result"
    }
   ],
   "source": [
    "df4.shape"
   ]
  },
  {
   "cell_type": "code",
   "execution_count": 56,
   "id": "e4f9af0d",
   "metadata": {},
   "outputs": [
    {
     "data": {
      "text/plain": [
       "Index(['id', 'timestamp', 'hour', 'day', 'month', 'datetime', 'source',\n",
       "       'destination', 'cab_type', 'name', 'price', 'distance',\n",
       "       'surge_multiplier', 'latitude', 'longitude', 'short_summary',\n",
       "       'long_summary', 'windGustTime', 'temperatureLowTime',\n",
       "       'apparentTemperatureHighTime', 'apparentTemperatureLowTime', 'icon',\n",
       "       'visibility.1', 'sunriseTime', 'sunsetTime', 'uvIndexTime',\n",
       "       'temperatureMinTime', 'temperatureMaxTime',\n",
       "       'apparentTemperatureMinTime', 'apparentTemperatureMaxTime'],\n",
       "      dtype='object')"
      ]
     },
     "execution_count": 56,
     "metadata": {},
     "output_type": "execute_result"
    }
   ],
   "source": [
    "df4.columns"
   ]
  },
  {
   "cell_type": "code",
   "execution_count": null,
   "id": "48116e91",
   "metadata": {},
   "outputs": [],
   "source": [
    "# df3 are all categorical values and next step is to check correaltion between categorial values and target variable and dropping all variables which are not required"
   ]
  },
  {
   "cell_type": "code",
   "execution_count": 57,
   "id": "ea2eb3b2",
   "metadata": {},
   "outputs": [],
   "source": [
    "df5=df4.drop(['timestamp','hour', 'day', 'month', 'datetime','latitude', 'longitude','windGustTime', 'temperatureLowTime',\n",
    "       'apparentTemperatureHighTime', 'apparentTemperatureLowTime', 'icon',\n",
    "       'visibility.1', 'sunriseTime', 'sunsetTime', 'uvIndexTime',\n",
    "       'temperatureMinTime', 'temperatureMaxTime',\n",
    "       'apparentTemperatureMinTime', 'apparentTemperatureMaxTime'], axis=1)"
   ]
  },
  {
   "cell_type": "code",
   "execution_count": 58,
   "id": "d759820f",
   "metadata": {},
   "outputs": [
    {
     "data": {
      "text/plain": [
       "(637975, 10)"
      ]
     },
     "execution_count": 58,
     "metadata": {},
     "output_type": "execute_result"
    }
   ],
   "source": [
    "df5.shape"
   ]
  },
  {
   "cell_type": "code",
   "execution_count": 60,
   "id": "56e9350b",
   "metadata": {},
   "outputs": [
    {
     "data": {
      "text/plain": [
       "Index(['id', 'source', 'destination', 'cab_type', 'name', 'price', 'distance',\n",
       "       'surge_multiplier', 'short_summary', 'long_summary'],\n",
       "      dtype='object')"
      ]
     },
     "execution_count": 60,
     "metadata": {},
     "output_type": "execute_result"
    }
   ],
   "source": [
    "df5.columns"
   ]
  },
  {
   "cell_type": "code",
   "execution_count": null,
   "id": "f8ccd0c3",
   "metadata": {},
   "outputs": [],
   "source": [
    "# checking correlation between target variables and categorical varibles such as id', 'source', 'destination', 'cab_type', 'name', 'surge_multiplier', 'short_summary', 'long_summary'"
   ]
  },
  {
   "cell_type": "code",
   "execution_count": 61,
   "id": "2a17719a",
   "metadata": {},
   "outputs": [
    {
     "data": {
      "text/html": [
       "<div>\n",
       "<style scoped>\n",
       "    .dataframe tbody tr th:only-of-type {\n",
       "        vertical-align: middle;\n",
       "    }\n",
       "\n",
       "    .dataframe tbody tr th {\n",
       "        vertical-align: top;\n",
       "    }\n",
       "\n",
       "    .dataframe thead th {\n",
       "        text-align: right;\n",
       "    }\n",
       "</style>\n",
       "<table border=\"1\" class=\"dataframe\">\n",
       "  <thead>\n",
       "    <tr style=\"text-align: right;\">\n",
       "      <th></th>\n",
       "      <th>source</th>\n",
       "      <th>destination</th>\n",
       "      <th>cab_type</th>\n",
       "      <th>name</th>\n",
       "      <th>short_summary</th>\n",
       "      <th>long_summary</th>\n",
       "      <th>price</th>\n",
       "    </tr>\n",
       "  </thead>\n",
       "  <tbody>\n",
       "    <tr>\n",
       "      <th>346401</th>\n",
       "      <td>North End</td>\n",
       "      <td>Financial District</td>\n",
       "      <td>Uber</td>\n",
       "      <td>UberX</td>\n",
       "      <td>Mostly Cloudy</td>\n",
       "      <td>Mostly cloudy throughout the day.</td>\n",
       "      <td>8.5</td>\n",
       "    </tr>\n",
       "    <tr>\n",
       "      <th>390693</th>\n",
       "      <td>Beacon Hill</td>\n",
       "      <td>Haymarket Square</td>\n",
       "      <td>Uber</td>\n",
       "      <td>Black SUV</td>\n",
       "      <td>Overcast</td>\n",
       "      <td>Mostly cloudy throughout the day.</td>\n",
       "      <td>27.5</td>\n",
       "    </tr>\n",
       "    <tr>\n",
       "      <th>390691</th>\n",
       "      <td>South Station</td>\n",
       "      <td>Financial District</td>\n",
       "      <td>Uber</td>\n",
       "      <td>Black SUV</td>\n",
       "      <td>Overcast</td>\n",
       "      <td>Mostly cloudy throughout the day.</td>\n",
       "      <td>27.5</td>\n",
       "    </tr>\n",
       "    <tr>\n",
       "      <th>390690</th>\n",
       "      <td>South Station</td>\n",
       "      <td>Financial District</td>\n",
       "      <td>Uber</td>\n",
       "      <td>UberPool</td>\n",
       "      <td>Partly Cloudy</td>\n",
       "      <td>Mostly cloudy throughout the day.</td>\n",
       "      <td>6.5</td>\n",
       "    </tr>\n",
       "    <tr>\n",
       "      <th>390689</th>\n",
       "      <td>South Station</td>\n",
       "      <td>Financial District</td>\n",
       "      <td>Uber</td>\n",
       "      <td>UberX</td>\n",
       "      <td>Partly Cloudy</td>\n",
       "      <td>Mostly cloudy throughout the day.</td>\n",
       "      <td>7.0</td>\n",
       "    </tr>\n",
       "  </tbody>\n",
       "</table>\n",
       "</div>"
      ],
      "text/plain": [
       "               source         destination cab_type       name  \\\n",
       "346401      North End  Financial District     Uber      UberX   \n",
       "390693    Beacon Hill    Haymarket Square     Uber  Black SUV   \n",
       "390691  South Station  Financial District     Uber  Black SUV   \n",
       "390690  South Station  Financial District     Uber   UberPool   \n",
       "390689  South Station  Financial District     Uber      UberX   \n",
       "\n",
       "          short_summary                         long_summary  price  \n",
       "346401   Mostly Cloudy    Mostly cloudy throughout the day.     8.5  \n",
       "390693        Overcast    Mostly cloudy throughout the day.    27.5  \n",
       "390691        Overcast    Mostly cloudy throughout the day.    27.5  \n",
       "390690   Partly Cloudy    Mostly cloudy throughout the day.     6.5  \n",
       "390689   Partly Cloudy    Mostly cloudy throughout the day.     7.0  "
      ]
     },
     "execution_count": 61,
     "metadata": {},
     "output_type": "execute_result"
    }
   ],
   "source": [
    "df6 = ['source', 'destination', 'cab_type', 'name','short_summary', 'long_summary','price']\n",
    "\n",
    "df7 = df5[df6]\n",
    "df7.head()"
   ]
  },
  {
   "cell_type": "code",
   "execution_count": 62,
   "id": "875a7d24",
   "metadata": {},
   "outputs": [],
   "source": [
    "from sklearn import preprocessing\n",
    "le = preprocessing.LabelEncoder()\n",
    "\n",
    "df7_encode= df7.copy()\n",
    "for col in df7_encode.select_dtypes(include='O').columns:\n",
    "    df7_encode[col]=le.fit_transform(df7_encode[col])"
   ]
  },
  {
   "cell_type": "code",
   "execution_count": 54,
   "id": "9521b5f3",
   "metadata": {},
   "outputs": [
    {
     "data": {
      "text/html": [
       "<div>\n",
       "<style scoped>\n",
       "    .dataframe tbody tr th:only-of-type {\n",
       "        vertical-align: middle;\n",
       "    }\n",
       "\n",
       "    .dataframe tbody tr th {\n",
       "        vertical-align: top;\n",
       "    }\n",
       "\n",
       "    .dataframe thead th {\n",
       "        text-align: right;\n",
       "    }\n",
       "</style>\n",
       "<table border=\"1\" class=\"dataframe\">\n",
       "  <thead>\n",
       "    <tr style=\"text-align: right;\">\n",
       "      <th></th>\n",
       "      <th>source</th>\n",
       "      <th>destination</th>\n",
       "      <th>cab_type</th>\n",
       "      <th>name</th>\n",
       "      <th>short_summary</th>\n",
       "      <th>long_summary</th>\n",
       "      <th>price</th>\n",
       "    </tr>\n",
       "  </thead>\n",
       "  <tbody>\n",
       "    <tr>\n",
       "      <th>346401</th>\n",
       "      <td>6</td>\n",
       "      <td>4</td>\n",
       "      <td>1</td>\n",
       "      <td>9</td>\n",
       "      <td>4</td>\n",
       "      <td>4</td>\n",
       "      <td>8.5</td>\n",
       "    </tr>\n",
       "    <tr>\n",
       "      <th>390693</th>\n",
       "      <td>1</td>\n",
       "      <td>5</td>\n",
       "      <td>1</td>\n",
       "      <td>1</td>\n",
       "      <td>5</td>\n",
       "      <td>4</td>\n",
       "      <td>27.5</td>\n",
       "    </tr>\n",
       "    <tr>\n",
       "      <th>390691</th>\n",
       "      <td>9</td>\n",
       "      <td>4</td>\n",
       "      <td>1</td>\n",
       "      <td>1</td>\n",
       "      <td>5</td>\n",
       "      <td>4</td>\n",
       "      <td>27.5</td>\n",
       "    </tr>\n",
       "    <tr>\n",
       "      <th>390690</th>\n",
       "      <td>9</td>\n",
       "      <td>4</td>\n",
       "      <td>1</td>\n",
       "      <td>8</td>\n",
       "      <td>6</td>\n",
       "      <td>4</td>\n",
       "      <td>6.5</td>\n",
       "    </tr>\n",
       "    <tr>\n",
       "      <th>390689</th>\n",
       "      <td>9</td>\n",
       "      <td>4</td>\n",
       "      <td>1</td>\n",
       "      <td>9</td>\n",
       "      <td>6</td>\n",
       "      <td>4</td>\n",
       "      <td>7.0</td>\n",
       "    </tr>\n",
       "    <tr>\n",
       "      <th>...</th>\n",
       "      <td>...</td>\n",
       "      <td>...</td>\n",
       "      <td>...</td>\n",
       "      <td>...</td>\n",
       "      <td>...</td>\n",
       "      <td>...</td>\n",
       "      <td>...</td>\n",
       "    </tr>\n",
       "    <tr>\n",
       "      <th>411458</th>\n",
       "      <td>1</td>\n",
       "      <td>5</td>\n",
       "      <td>0</td>\n",
       "      <td>6</td>\n",
       "      <td>0</td>\n",
       "      <td>2</td>\n",
       "      <td>13.5</td>\n",
       "    </tr>\n",
       "    <tr>\n",
       "      <th>411457</th>\n",
       "      <td>1</td>\n",
       "      <td>5</td>\n",
       "      <td>0</td>\n",
       "      <td>5</td>\n",
       "      <td>0</td>\n",
       "      <td>6</td>\n",
       "      <td>7.0</td>\n",
       "    </tr>\n",
       "    <tr>\n",
       "      <th>411456</th>\n",
       "      <td>1</td>\n",
       "      <td>5</td>\n",
       "      <td>0</td>\n",
       "      <td>2</td>\n",
       "      <td>0</td>\n",
       "      <td>6</td>\n",
       "      <td>13.5</td>\n",
       "    </tr>\n",
       "    <tr>\n",
       "      <th>411455</th>\n",
       "      <td>1</td>\n",
       "      <td>5</td>\n",
       "      <td>0</td>\n",
       "      <td>7</td>\n",
       "      <td>0</td>\n",
       "      <td>6</td>\n",
       "      <td>3.5</td>\n",
       "    </tr>\n",
       "    <tr>\n",
       "      <th>0</th>\n",
       "      <td>5</td>\n",
       "      <td>7</td>\n",
       "      <td>0</td>\n",
       "      <td>7</td>\n",
       "      <td>4</td>\n",
       "      <td>9</td>\n",
       "      <td>5.0</td>\n",
       "    </tr>\n",
       "  </tbody>\n",
       "</table>\n",
       "<p>637975 rows × 7 columns</p>\n",
       "</div>"
      ],
      "text/plain": [
       "        source  destination  cab_type  name  short_summary  long_summary  \\\n",
       "346401       6            4         1     9              4             4   \n",
       "390693       1            5         1     1              5             4   \n",
       "390691       9            4         1     1              5             4   \n",
       "390690       9            4         1     8              6             4   \n",
       "390689       9            4         1     9              6             4   \n",
       "...        ...          ...       ...   ...            ...           ...   \n",
       "411458       1            5         0     6              0             2   \n",
       "411457       1            5         0     5              0             6   \n",
       "411456       1            5         0     2              0             6   \n",
       "411455       1            5         0     7              0             6   \n",
       "0            5            7         0     7              4             9   \n",
       "\n",
       "        price  \n",
       "346401    8.5  \n",
       "390693   27.5  \n",
       "390691   27.5  \n",
       "390690    6.5  \n",
       "390689    7.0  \n",
       "...       ...  \n",
       "411458   13.5  \n",
       "411457    7.0  \n",
       "411456   13.5  \n",
       "411455    3.5  \n",
       "0         5.0  \n",
       "\n",
       "[637975 rows x 7 columns]"
      ]
     },
     "execution_count": 54,
     "metadata": {},
     "output_type": "execute_result"
    }
   ],
   "source": [
    "df7_encode"
   ]
  },
  {
   "cell_type": "code",
   "execution_count": 64,
   "id": "2faf0736",
   "metadata": {},
   "outputs": [
    {
     "data": {
      "text/plain": [
       "<AxesSubplot:>"
      ]
     },
     "execution_count": 64,
     "metadata": {},
     "output_type": "execute_result"
    },
    {
     "data": {
      "image/png": "[encoded data removed]",
      "text/plain": [
       "<Figure size 432x288 with 2 Axes>"
      ]
     },
     "metadata": {
      "needs_background": "light"
     },
     "output_type": "display_data"
    }
   ],
   "source": [
    "plt.figure\n",
    "sns.heatmap(df7_encode.corr(),annot=True)"
   ]
  },
  {
   "cell_type": "code",
   "execution_count": null,
   "id": "4a7aab03",
   "metadata": {},
   "outputs": [],
   "source": [
    "# We can see only name feature that has a relatively strong correlation. \n",
    "#Source,destination, and cab_type features have relatively weak correlation\n",
    "# but i will pick cab_type feature because it has stronger correlation than other two features.\n",
    "#I will drop or remove the rest of the columns"
   ]
  },
  {
   "cell_type": "code",
   "execution_count": null,
   "id": "1931e5b3",
   "metadata": {},
   "outputs": [],
   "source": [
    "new_df = new_df.drop(['source','destination','short_summary','icon'],axis=1)\n",
    "new_df.head()"
   ]
  },
  {
   "cell_type": "code",
   "execution_count": 56,
   "id": "fb527603",
   "metadata": {},
   "outputs": [
    {
     "data": {
      "text/plain": [
       "Index(['id', 'source', 'destination', 'cab_type', 'name', 'price', 'distance',\n",
       "       'surge_multiplier', 'short_summary', 'long_summary'],\n",
       "      dtype='object')"
      ]
     },
     "execution_count": 56,
     "metadata": {},
     "output_type": "execute_result"
    }
   ],
   "source": [
    "df5.columns"
   ]
  },
  {
   "cell_type": "code",
   "execution_count": 59,
   "id": "7815de5f",
   "metadata": {},
   "outputs": [],
   "source": [
    "df6=df5.drop(['id', 'source', 'destination','short_summary', 'long_summary'], axis=1)"
   ]
  },
  {
   "cell_type": "code",
   "execution_count": 60,
   "id": "18e013e1",
   "metadata": {},
   "outputs": [
    {
     "data": {
      "text/plain": [
       "Index(['cab_type', 'name', 'price', 'distance', 'surge_multiplier'], dtype='object')"
      ]
     },
     "execution_count": 60,
     "metadata": {},
     "output_type": "execute_result"
    }
   ],
   "source": [
    "df6.columns"
   ]
  },
  {
   "cell_type": "code",
   "execution_count": 78,
   "id": "be78e1b9",
   "metadata": {},
   "outputs": [],
   "source": [
    "import numpy as np\n",
    "from sklearn.preprocessing import LabelEncoder\n",
    "from sklearn.preprocessing import OneHotEncoder"
   ]
  },
  {
   "cell_type": "code",
   "execution_count": 79,
   "id": "a84fb3be",
   "metadata": {},
   "outputs": [],
   "source": [
    "def one_hot_encoder(data,feature,keep_first=True):\n",
    "\n",
    "    df8 = pd.get_dummies(data[feature])\n",
    "    \n",
    "    for col in df8.columns:\n",
    "        df8.rename({col:f'{feature}_'+col},axis=1,inplace=True)\n",
    "    \n",
    "    df6 = pd.concat([data,df8],axis=1)\n",
    "    df6.drop(feature,axis=1,inplace=True)\n",
    "    \n",
    "    if keep_first == False:\n",
    "        df6=df6.iloc[:,1:]\n",
    "    \n",
    "    return df6"
   ]
  },
  {
   "cell_type": "code",
   "execution_count": 80,
   "id": "05756442",
   "metadata": {},
   "outputs": [
    {
     "data": {
      "text/html": [
       "<div>\n",
       "<style scoped>\n",
       "    .dataframe tbody tr th:only-of-type {\n",
       "        vertical-align: middle;\n",
       "    }\n",
       "\n",
       "    .dataframe tbody tr th {\n",
       "        vertical-align: top;\n",
       "    }\n",
       "\n",
       "    .dataframe thead th {\n",
       "        text-align: right;\n",
       "    }\n",
       "</style>\n",
       "<table border=\"1\" class=\"dataframe\">\n",
       "  <thead>\n",
       "    <tr style=\"text-align: right;\">\n",
       "      <th></th>\n",
       "      <th>price</th>\n",
       "      <th>distance</th>\n",
       "      <th>surge_multiplier</th>\n",
       "      <th>cab_type_Lyft</th>\n",
       "      <th>cab_type_Uber</th>\n",
       "      <th>name_Black</th>\n",
       "      <th>name_Black SUV</th>\n",
       "      <th>name_Lux</th>\n",
       "      <th>name_Lux Black</th>\n",
       "      <th>name_Lux Black XL</th>\n",
       "      <th>name_Lyft</th>\n",
       "      <th>name_Lyft XL</th>\n",
       "      <th>name_Shared</th>\n",
       "      <th>name_UberPool</th>\n",
       "      <th>name_UberX</th>\n",
       "      <th>name_UberXL</th>\n",
       "      <th>name_WAV</th>\n",
       "    </tr>\n",
       "  </thead>\n",
       "  <tbody>\n",
       "    <tr>\n",
       "      <th>346401</th>\n",
       "      <td>8.5</td>\n",
       "      <td>1.04</td>\n",
       "      <td>1.0</td>\n",
       "      <td>0</td>\n",
       "      <td>1</td>\n",
       "      <td>0</td>\n",
       "      <td>0</td>\n",
       "      <td>0</td>\n",
       "      <td>0</td>\n",
       "      <td>0</td>\n",
       "      <td>0</td>\n",
       "      <td>0</td>\n",
       "      <td>0</td>\n",
       "      <td>0</td>\n",
       "      <td>1</td>\n",
       "      <td>0</td>\n",
       "      <td>0</td>\n",
       "    </tr>\n",
       "    <tr>\n",
       "      <th>390693</th>\n",
       "      <td>27.5</td>\n",
       "      <td>1.35</td>\n",
       "      <td>1.0</td>\n",
       "      <td>0</td>\n",
       "      <td>1</td>\n",
       "      <td>0</td>\n",
       "      <td>1</td>\n",
       "      <td>0</td>\n",
       "      <td>0</td>\n",
       "      <td>0</td>\n",
       "      <td>0</td>\n",
       "      <td>0</td>\n",
       "      <td>0</td>\n",
       "      <td>0</td>\n",
       "      <td>0</td>\n",
       "      <td>0</td>\n",
       "      <td>0</td>\n",
       "    </tr>\n",
       "    <tr>\n",
       "      <th>390691</th>\n",
       "      <td>27.5</td>\n",
       "      <td>0.54</td>\n",
       "      <td>1.0</td>\n",
       "      <td>0</td>\n",
       "      <td>1</td>\n",
       "      <td>0</td>\n",
       "      <td>1</td>\n",
       "      <td>0</td>\n",
       "      <td>0</td>\n",
       "      <td>0</td>\n",
       "      <td>0</td>\n",
       "      <td>0</td>\n",
       "      <td>0</td>\n",
       "      <td>0</td>\n",
       "      <td>0</td>\n",
       "      <td>0</td>\n",
       "      <td>0</td>\n",
       "    </tr>\n",
       "    <tr>\n",
       "      <th>390690</th>\n",
       "      <td>6.5</td>\n",
       "      <td>0.54</td>\n",
       "      <td>1.0</td>\n",
       "      <td>0</td>\n",
       "      <td>1</td>\n",
       "      <td>0</td>\n",
       "      <td>0</td>\n",
       "      <td>0</td>\n",
       "      <td>0</td>\n",
       "      <td>0</td>\n",
       "      <td>0</td>\n",
       "      <td>0</td>\n",
       "      <td>0</td>\n",
       "      <td>1</td>\n",
       "      <td>0</td>\n",
       "      <td>0</td>\n",
       "      <td>0</td>\n",
       "    </tr>\n",
       "    <tr>\n",
       "      <th>390689</th>\n",
       "      <td>7.0</td>\n",
       "      <td>0.54</td>\n",
       "      <td>1.0</td>\n",
       "      <td>0</td>\n",
       "      <td>1</td>\n",
       "      <td>0</td>\n",
       "      <td>0</td>\n",
       "      <td>0</td>\n",
       "      <td>0</td>\n",
       "      <td>0</td>\n",
       "      <td>0</td>\n",
       "      <td>0</td>\n",
       "      <td>0</td>\n",
       "      <td>0</td>\n",
       "      <td>1</td>\n",
       "      <td>0</td>\n",
       "      <td>0</td>\n",
       "    </tr>\n",
       "  </tbody>\n",
       "</table>\n",
       "</div>"
      ],
      "text/plain": [
       "        price  distance  surge_multiplier  cab_type_Lyft  cab_type_Uber  \\\n",
       "346401    8.5      1.04               1.0              0              1   \n",
       "390693   27.5      1.35               1.0              0              1   \n",
       "390691   27.5      0.54               1.0              0              1   \n",
       "390690    6.5      0.54               1.0              0              1   \n",
       "390689    7.0      0.54               1.0              0              1   \n",
       "\n",
       "        name_Black  name_Black SUV  name_Lux  name_Lux Black  \\\n",
       "346401           0               0         0               0   \n",
       "390693           0               1         0               0   \n",
       "390691           0               1         0               0   \n",
       "390690           0               0         0               0   \n",
       "390689           0               0         0               0   \n",
       "\n",
       "        name_Lux Black XL  name_Lyft  name_Lyft XL  name_Shared  \\\n",
       "346401                  0          0             0            0   \n",
       "390693                  0          0             0            0   \n",
       "390691                  0          0             0            0   \n",
       "390690                  0          0             0            0   \n",
       "390689                  0          0             0            0   \n",
       "\n",
       "        name_UberPool  name_UberX  name_UberXL  name_WAV  \n",
       "346401              0           1            0         0  \n",
       "390693              0           0            0         0  \n",
       "390691              0           0            0         0  \n",
       "390690              1           0            0         0  \n",
       "390689              0           1            0         0  "
      ]
     },
     "execution_count": 80,
     "metadata": {},
     "output_type": "execute_result"
    }
   ],
   "source": [
    "df_onehot=df6.copy()\n",
    "for col in df_onehot.select_dtypes(include='O').columns:\n",
    "    df_onehot=one_hot_encoder(df_onehot,col)\n",
    "    \n",
    "df_onehot.head()"
   ]
  },
  {
   "cell_type": "code",
   "execution_count": 100,
   "id": "1ae94d20",
   "metadata": {},
   "outputs": [
    {
     "data": {
      "text/plain": [
       "Index(['price', 'distance', 'surge_multiplier', 'cab_type_Lyft',\n",
       "       'cab_type_Uber', 'name_Black', 'name_Black SUV', 'name_Lux',\n",
       "       'name_Lux Black', 'name_Lux Black XL', 'name_Lyft', 'name_Lyft XL',\n",
       "       'name_Shared', 'name_UberPool', 'name_UberX', 'name_UberXL',\n",
       "       'name_WAV'],\n",
       "      dtype='object')"
      ]
     },
     "execution_count": 100,
     "metadata": {},
     "output_type": "execute_result"
    }
   ],
   "source": [
    "df_onehot.columns"
   ]
  },
  {
   "cell_type": "code",
   "execution_count": 81,
   "id": "808f8008",
   "metadata": {},
   "outputs": [],
   "source": [
    "from sklearn.model_selection import train_test_split\n",
    "X = df_onehot.drop(columns=['price'],axis=1).values\n",
    "y = df_onehot['price'].values\n",
    "\n",
    "X_train, X_test, y_train, y_test = train_test_split(X, y, test_size=0.2, random_state=0)"
   ]
  },
  {
   "cell_type": "code",
   "execution_count": 82,
   "id": "580efaa0",
   "metadata": {},
   "outputs": [],
   "source": [
    "from sklearn.linear_model import LinearRegression\n",
    "reg = LinearRegression()"
   ]
  },
  {
   "cell_type": "code",
   "execution_count": 83,
   "id": "f1405fd1",
   "metadata": {},
   "outputs": [],
   "source": [
    "# Fit to data training\n",
    "model = reg.fit(X_train,y_train)\n",
    "y_pred=model.predict(X_test)"
   ]
  },
  {
   "cell_type": "code",
   "execution_count": 84,
   "id": "76b0e883",
   "metadata": {},
   "outputs": [
    {
     "data": {
      "text/plain": [
       "0.9266731220590335"
      ]
     },
     "execution_count": 84,
     "metadata": {},
     "output_type": "execute_result"
    }
   ],
   "source": [
    "from sklearn.metrics import r2_score\n",
    "r2_score(y_test, y_pred)"
   ]
  },
  {
   "cell_type": "code",
   "execution_count": 85,
   "id": "9c58467d",
   "metadata": {},
   "outputs": [
    {
     "name": "stdout",
     "output_type": "stream",
     "text": [
      "6.3541694552582415\n",
      "2.520747796836931\n"
     ]
    }
   ],
   "source": [
    "from sklearn.metrics import mean_squared_error\n",
    "mse = mean_squared_error(y_test,y_pred)\n",
    "rmse = np.sqrt(mse)\n",
    "print(mse)\n",
    "print(rmse)"
   ]
  },
  {
   "cell_type": "code",
   "execution_count": 102,
   "id": "01ab2ada",
   "metadata": {},
   "outputs": [],
   "source": [
    "predictors = df_onehot[['price', 'distance', 'surge_multiplier', 'cab_type_Lyft',\n",
    "       'cab_type_Uber', 'name_Black', 'name_Black SUV', 'name_Lux',\n",
    "       'name_Lux Black', 'name_Lux Black XL', 'name_Lyft', 'name_Lyft XL',\n",
    "       'name_Shared', 'name_UberPool', 'name_UberX', 'name_UberXL',\n",
    "       'name_WAV']]"
   ]
  },
  {
   "cell_type": "code",
   "execution_count": 103,
   "id": "eb1d46c4",
   "metadata": {},
   "outputs": [],
   "source": [
    "predictors.dropna(inplace = True)"
   ]
  },
  {
   "cell_type": "code",
   "execution_count": 104,
   "id": "4e5b29ef",
   "metadata": {},
   "outputs": [],
   "source": [
    "#separate the other attributes from the predicting attribute\n",
    "x = predictors.drop(\"price\",axis=1)\n",
    "#separte the predicting attribute into Y for model training \n",
    "y = predictors[\"price\"]"
   ]
  },
  {
   "cell_type": "code",
   "execution_count": 105,
   "id": "c3568882",
   "metadata": {},
   "outputs": [],
   "source": [
    "# importing train_test_split from sklearn\n",
    "from sklearn.model_selection import train_test_split\n",
    "# splitting the data\n",
    "x_train, x_test, y_train, y_test = train_test_split(x, y, test_size = 0.2, random_state = 42)"
   ]
  },
  {
   "cell_type": "code",
   "execution_count": 106,
   "id": "d881a997",
   "metadata": {},
   "outputs": [
    {
     "data": {
      "text/plain": [
       "LinearRegression()"
      ]
     },
     "execution_count": 106,
     "metadata": {},
     "output_type": "execute_result"
    }
   ],
   "source": [
    "# importing module\n",
    "from sklearn.linear_model import LinearRegression\n",
    "# creating an object of LinearRegression class\n",
    "LR = LinearRegression()\n",
    "# fitting the training data\n",
    "LR.fit(x_train,y_train)"
   ]
  },
  {
   "cell_type": "code",
   "execution_count": 107,
   "id": "cde4db87",
   "metadata": {},
   "outputs": [],
   "source": [
    "y_prediction =  LR.predict(x_test)"
   ]
  },
  {
   "cell_type": "code",
   "execution_count": 108,
   "id": "77036a95",
   "metadata": {},
   "outputs": [
    {
     "name": "stdout",
     "output_type": "stream",
     "text": [
      "r2 socre is  0.9262718210355712\n",
      "mean_sqrd_error is== 6.402162321520985\n",
      "root_mean_squared error of is== 2.530249458358006\n"
     ]
    }
   ],
   "source": [
    "# importing r2_score module\n",
    "from sklearn.metrics import r2_score\n",
    "from sklearn.metrics import mean_squared_error\n",
    "# predicting the accuracy score\n",
    "score=r2_score(y_test,y_prediction)\n",
    "print('r2 socre is ',score)\n",
    "print('mean_sqrd_error is==',mean_squared_error(y_test,y_prediction))\n",
    "print('root_mean_squared error of is==',np.sqrt(mean_squared_error(y_test,y_prediction)))"
   ]
  },
  {
   "cell_type": "code",
   "execution_count": 109,
   "id": "b1cda0d0",
   "metadata": {},
   "outputs": [
    {
     "name": "stdout",
     "output_type": "stream",
     "text": [
      "                            OLS Regression Results                            \n",
      "==============================================================================\n",
      "Dep. Variable:                  price   R-squared:                       0.927\n",
      "Model:                            OLS   Adj. R-squared:                  0.927\n",
      "Method:                 Least Squares   F-statistic:                 5.424e+05\n",
      "Date:                Sat, 16 Apr 2022   Prob (F-statistic):               0.00\n",
      "Time:                        16:39:55   Log-Likelihood:            -1.4934e+06\n",
      "No. Observations:              637975   AIC:                         2.987e+06\n",
      "Df Residuals:                  637959   BIC:                         2.987e+06\n",
      "Df Model:                          15                                         \n",
      "Covariance Type:            nonrobust                                         \n",
      "=====================================================================================\n",
      "                        coef    std err          t      P>|t|      [0.025      0.975]\n",
      "-------------------------------------------------------------------------------------\n",
      "const             -5.832e+09   4.25e+09     -1.372      0.170   -1.42e+10     2.5e+09\n",
      "distance              2.7945      0.003   1007.642      0.000       2.789       2.800\n",
      "surge_multiplier     18.3324      0.034    534.211      0.000      18.265      18.400\n",
      "cab_type_Lyft      2.737e+10   4.03e+10      0.680      0.497   -5.16e+10    1.06e+11\n",
      "cab_type_Uber     -3.324e+10   4.42e+10     -0.753      0.452    -1.2e+11    5.33e+10\n",
      "name_Black         3.907e+10   4.81e+10      0.813      0.416   -5.52e+10    1.33e+11\n",
      "name_Black SUV     3.907e+10   4.81e+10      0.813      0.416   -5.52e+10    1.33e+11\n",
      "name_Lux          -2.154e+10   3.65e+10     -0.590      0.555   -9.31e+10    5.01e+10\n",
      "name_Lux Black    -2.154e+10   3.65e+10     -0.590      0.555   -9.31e+10    5.01e+10\n",
      "name_Lux Black XL -2.154e+10   3.65e+10     -0.590      0.555   -9.31e+10    5.01e+10\n",
      "name_Lyft         -2.154e+10   3.65e+10     -0.590      0.555   -9.31e+10    5.01e+10\n",
      "name_Lyft XL      -2.154e+10   3.65e+10     -0.590      0.555   -9.31e+10    5.01e+10\n",
      "name_Shared       -2.154e+10   3.65e+10     -0.590      0.555   -9.31e+10    5.01e+10\n",
      "name_UberPool      3.907e+10   4.81e+10      0.813      0.416   -5.52e+10    1.33e+11\n",
      "name_UberX         3.907e+10   4.81e+10      0.813      0.416   -5.52e+10    1.33e+11\n",
      "name_UberXL        3.907e+10   4.81e+10      0.813      0.416   -5.52e+10    1.33e+11\n",
      "name_WAV           3.907e+10   4.81e+10      0.813      0.416   -5.52e+10    1.33e+11\n",
      "==============================================================================\n",
      "Omnibus:                   254716.850   Durbin-Watson:                   1.688\n",
      "Prob(Omnibus):                  0.000   Jarque-Bera (JB):          4589373.974\n",
      "Skew:                           1.462   Prob(JB):                         0.00\n",
      "Kurtosis:                      15.810   Cond. No.                     4.94e+16\n",
      "==============================================================================\n",
      "\n",
      "Notes:\n",
      "[1] Standard Errors assume that the covariance matrix of the errors is correctly specified.\n",
      "[2] The smallest eigenvalue is 2.17e-27. This might indicate that there are\n",
      "strong multicollinearity problems or that the design matrix is singular.\n"
     ]
    }
   ],
   "source": [
    "import statsmodels.api as sm\n",
    "from scipy import stats\n",
    "\n",
    "X2 = sm.add_constant(x)\n",
    "est = sm.OLS(y, X2)\n",
    "est2 = est.fit()\n",
    "print(est2.summary())"
   ]
  },
  {
   "cell_type": "code",
   "execution_count": null,
   "id": "f613248c",
   "metadata": {},
   "outputs": [],
   "source": []
  }
 ],
 "metadata": {
  "kernelspec": {
   "display_name": "Python 3",
   "language": "python",
   "name": "python3"
  },
  "language_info": {
   "codemirror_mode": {
    "name": "ipython",
    "version": 3
   },
   "file_extension": ".py",
   "mimetype": "text/x-python",
   "name": "python",
   "nbconvert_exporter": "python",
   "pygments_lexer": "ipython3",
   "version": "3.8.8"
  }
 },
 "nbformat": 4,
 "nbformat_minor": 5
}
